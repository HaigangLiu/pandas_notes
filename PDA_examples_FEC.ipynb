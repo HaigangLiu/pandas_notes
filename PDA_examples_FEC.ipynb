{
 "cells": [
  {
   "cell_type": "markdown",
   "metadata": {},
   "source": [
    "\n",
    "# Campaign contribution of 2012 election\n",
    "\n",
    "The data is obtained from fec, and here's a couple of things to do. \n",
    "1. Clean up the name of doner and emplyer of them. More information can be found in clean_up_name dict\n",
    "2. Find the contribution for each occupation and for each party, and make a plot for major occupations.\n",
    "3. Top donner for two candidates in 2012 (obama and romney), by state and by occupations\n"
   ]
  },
  {
   "cell_type": "code",
   "execution_count": 1,
   "metadata": {},
   "outputs": [
    {
     "data": {
      "text/html": [
       "<div>\n",
       "<style scoped>\n",
       "    .dataframe tbody tr th:only-of-type {\n",
       "        vertical-align: middle;\n",
       "    }\n",
       "\n",
       "    .dataframe tbody tr th {\n",
       "        vertical-align: top;\n",
       "    }\n",
       "\n",
       "    .dataframe thead th {\n",
       "        text-align: right;\n",
       "    }\n",
       "</style>\n",
       "<table border=\"1\" class=\"dataframe\">\n",
       "  <thead>\n",
       "    <tr style=\"text-align: right;\">\n",
       "      <th></th>\n",
       "      <th>cmte_id</th>\n",
       "      <th>cand_id</th>\n",
       "      <th>cand_nm</th>\n",
       "      <th>contbr_nm</th>\n",
       "      <th>contbr_city</th>\n",
       "      <th>contbr_st</th>\n",
       "      <th>contbr_zip</th>\n",
       "      <th>contbr_employer</th>\n",
       "      <th>contbr_occupation</th>\n",
       "      <th>contb_receipt_amt</th>\n",
       "      <th>contb_receipt_dt</th>\n",
       "      <th>receipt_desc</th>\n",
       "      <th>memo_cd</th>\n",
       "      <th>memo_text</th>\n",
       "      <th>form_tp</th>\n",
       "      <th>file_num</th>\n",
       "      <th>party</th>\n",
       "    </tr>\n",
       "  </thead>\n",
       "  <tbody>\n",
       "    <tr>\n",
       "      <th>0</th>\n",
       "      <td>C00410118</td>\n",
       "      <td>P20002978</td>\n",
       "      <td>Bachmann, Michelle</td>\n",
       "      <td>HARVEY, WILLIAM</td>\n",
       "      <td>MOBILE</td>\n",
       "      <td>AL</td>\n",
       "      <td>366010290</td>\n",
       "      <td>RETIRED</td>\n",
       "      <td>RETIRED</td>\n",
       "      <td>250.0</td>\n",
       "      <td>20-JUN-11</td>\n",
       "      <td>NaN</td>\n",
       "      <td>NaN</td>\n",
       "      <td>NaN</td>\n",
       "      <td>SA17A</td>\n",
       "      <td>736166</td>\n",
       "      <td>Republican</td>\n",
       "    </tr>\n",
       "    <tr>\n",
       "      <th>1</th>\n",
       "      <td>C00410118</td>\n",
       "      <td>P20002978</td>\n",
       "      <td>Bachmann, Michelle</td>\n",
       "      <td>HARVEY, WILLIAM</td>\n",
       "      <td>MOBILE</td>\n",
       "      <td>AL</td>\n",
       "      <td>366010290</td>\n",
       "      <td>RETIRED</td>\n",
       "      <td>RETIRED</td>\n",
       "      <td>50.0</td>\n",
       "      <td>23-JUN-11</td>\n",
       "      <td>NaN</td>\n",
       "      <td>NaN</td>\n",
       "      <td>NaN</td>\n",
       "      <td>SA17A</td>\n",
       "      <td>736166</td>\n",
       "      <td>Republican</td>\n",
       "    </tr>\n",
       "    <tr>\n",
       "      <th>2</th>\n",
       "      <td>C00410118</td>\n",
       "      <td>P20002978</td>\n",
       "      <td>Bachmann, Michelle</td>\n",
       "      <td>SMITH, LANIER</td>\n",
       "      <td>LANETT</td>\n",
       "      <td>AL</td>\n",
       "      <td>368633403</td>\n",
       "      <td>INFORMATION REQUESTED</td>\n",
       "      <td>INFORMATION REQUESTED</td>\n",
       "      <td>250.0</td>\n",
       "      <td>05-JUL-11</td>\n",
       "      <td>NaN</td>\n",
       "      <td>NaN</td>\n",
       "      <td>NaN</td>\n",
       "      <td>SA17A</td>\n",
       "      <td>749073</td>\n",
       "      <td>Republican</td>\n",
       "    </tr>\n",
       "    <tr>\n",
       "      <th>3</th>\n",
       "      <td>C00410118</td>\n",
       "      <td>P20002978</td>\n",
       "      <td>Bachmann, Michelle</td>\n",
       "      <td>BLEVINS, DARONDA</td>\n",
       "      <td>PIGGOTT</td>\n",
       "      <td>AR</td>\n",
       "      <td>724548253</td>\n",
       "      <td>NONE</td>\n",
       "      <td>RETIRED</td>\n",
       "      <td>250.0</td>\n",
       "      <td>01-AUG-11</td>\n",
       "      <td>NaN</td>\n",
       "      <td>NaN</td>\n",
       "      <td>NaN</td>\n",
       "      <td>SA17A</td>\n",
       "      <td>749073</td>\n",
       "      <td>Republican</td>\n",
       "    </tr>\n",
       "    <tr>\n",
       "      <th>4</th>\n",
       "      <td>C00410118</td>\n",
       "      <td>P20002978</td>\n",
       "      <td>Bachmann, Michelle</td>\n",
       "      <td>WARDENBURG, HAROLD</td>\n",
       "      <td>HOT SPRINGS NATION</td>\n",
       "      <td>AR</td>\n",
       "      <td>719016467</td>\n",
       "      <td>NONE</td>\n",
       "      <td>RETIRED</td>\n",
       "      <td>300.0</td>\n",
       "      <td>20-JUN-11</td>\n",
       "      <td>NaN</td>\n",
       "      <td>NaN</td>\n",
       "      <td>NaN</td>\n",
       "      <td>SA17A</td>\n",
       "      <td>736166</td>\n",
       "      <td>Republican</td>\n",
       "    </tr>\n",
       "  </tbody>\n",
       "</table>\n",
       "</div>"
      ],
      "text/plain": [
       "     cmte_id    cand_id             cand_nm           contbr_nm  \\\n",
       "0  C00410118  P20002978  Bachmann, Michelle     HARVEY, WILLIAM   \n",
       "1  C00410118  P20002978  Bachmann, Michelle     HARVEY, WILLIAM   \n",
       "2  C00410118  P20002978  Bachmann, Michelle       SMITH, LANIER   \n",
       "3  C00410118  P20002978  Bachmann, Michelle    BLEVINS, DARONDA   \n",
       "4  C00410118  P20002978  Bachmann, Michelle  WARDENBURG, HAROLD   \n",
       "\n",
       "          contbr_city contbr_st contbr_zip        contbr_employer  \\\n",
       "0              MOBILE        AL  366010290                RETIRED   \n",
       "1              MOBILE        AL  366010290                RETIRED   \n",
       "2              LANETT        AL  368633403  INFORMATION REQUESTED   \n",
       "3             PIGGOTT        AR  724548253                   NONE   \n",
       "4  HOT SPRINGS NATION        AR  719016467                   NONE   \n",
       "\n",
       "       contbr_occupation  contb_receipt_amt contb_receipt_dt receipt_desc  \\\n",
       "0                RETIRED              250.0        20-JUN-11          NaN   \n",
       "1                RETIRED               50.0        23-JUN-11          NaN   \n",
       "2  INFORMATION REQUESTED              250.0        05-JUL-11          NaN   \n",
       "3                RETIRED              250.0        01-AUG-11          NaN   \n",
       "4                RETIRED              300.0        20-JUN-11          NaN   \n",
       "\n",
       "  memo_cd memo_text form_tp  file_num       party  \n",
       "0     NaN       NaN   SA17A    736166  Republican  \n",
       "1     NaN       NaN   SA17A    736166  Republican  \n",
       "2     NaN       NaN   SA17A    749073  Republican  \n",
       "3     NaN       NaN   SA17A    749073  Republican  \n",
       "4     NaN       NaN   SA17A    736166  Republican  "
      ]
     },
     "execution_count": 1,
     "metadata": {},
     "output_type": "execute_result"
    }
   ],
   "source": [
    "import pandas as pd \n",
    "fec = pd.read_csv('P00000001-ALL.csv', dtype={'contbr_zip':str})\n",
    "\n",
    "cand = fec.cand_nm.unique().tolist()\n",
    "dict_cand = {}\n",
    "for c in cand:\n",
    "    if c != 'Obama, Barack':\n",
    "        dict_cand[c] = 'Republican'\n",
    "    else:\n",
    "        dict_cand[c] = 'Democrat'\n",
    "fec['party'] = fec.cand_nm.map(dict_cand)\n",
    "fec = fec[fec.contb_receipt_amt > 0]\n",
    "fec.head()"
   ]
  },
  {
   "cell_type": "code",
   "execution_count": 2,
   "metadata": {
    "scrolled": false
   },
   "outputs": [
    {
     "ename": "SyntaxError",
     "evalue": "invalid syntax (<ipython-input-2-8dbc91ffcde9>, line 1)",
     "output_type": "error",
     "traceback": [
      "\u001b[0;36m  File \u001b[0;32m\"<ipython-input-2-8dbc91ffcde9>\"\u001b[0;36m, line \u001b[0;32m1\u001b[0m\n\u001b[0;31m    1. Use map function to add party affiliation. (Everyone is Republican except for Barack Obama.\u001b[0m\n\u001b[0m         ^\u001b[0m\n\u001b[0;31mSyntaxError\u001b[0m\u001b[0;31m:\u001b[0m invalid syntax\n"
     ]
    }
   ],
   "source": [
    "1. Use map function to add party affiliation. (Everyone is Republican except for Barack Obama. \n",
    "2. get number of contributions for each occupation.\n",
    "3. Clean the occupation and employname\n",
    "4. compare which occupation prefers which party \n",
    "5. generate plot for 4\n",
    "6. get top donner for obama and romney by occupation/by state\n",
    "7. use qcut to categorize the contribution amount."
   ]
  },
  {
   "cell_type": "markdown",
   "metadata": {},
   "source": [
    "## clean up occupation column"
   ]
  },
  {
   "cell_type": "code",
   "execution_count": null,
   "metadata": {},
   "outputs": [],
   "source": [
    "clean_up_name = {'INFORMATION REQUESTED PER BEST EFFORTS': 'NOT PROVIDED',\n",
    "                 'INFORMATION REQUESTED': 'NOT PROVIDED',\n",
    "                'INFORMATION REQUESTED (BEST EFFORTS)': 'NOT PROVIDED',\n",
    "                 'C.E.O.': 'CEO'}\n",
    "\n",
    "for k, v in clean_up_name.items():\n",
    "    fec['contbr_occupation'] = fec.contbr_occupation.str.replace(k, v)\n",
    "for k, v in clean_up_name.items():\n",
    "    fec['contbr_employer'] = fec.contbr_employer.str.replace(k, v)"
   ]
  },
  {
   "cell_type": "markdown",
   "metadata": {},
   "source": [
    "Alternatively, there's another way to replace these garbage names. However, we can not simply apply map function because if there is not a key there, the resulted value is going to be NA. Hence, we have to use get(x,x) to make x the default value, which means, allow occupations with no mapping to pass through. "
   ]
  },
  {
   "cell_type": "code",
   "execution_count": null,
   "metadata": {},
   "outputs": [],
   "source": [
    "emp_mapping = {\n",
    "       'INFORMATION REQUESTED PER BEST EFFORTS' : 'NOT PROVIDED',\n",
    "       'INFORMATION REQUESTED' : 'NOT PROVIDED',\n",
    "       'SELF' : 'SELF-EMPLOYED',\n",
    "       'SELF EMPLOYED' : 'SELF-EMPLOYED',\n",
    "}\n",
    "f = lambda x: emp_mapping.get(x, x) #make sure understand the get function.\n",
    "fec.contbr_employer.map(f)\n",
    "fec.contbr_employer.head()"
   ]
  },
  {
   "cell_type": "markdown",
   "metadata": {},
   "source": [
    "## top doner by occupation"
   ]
  },
  {
   "cell_type": "code",
   "execution_count": null,
   "metadata": {},
   "outputs": [],
   "source": [
    "amount_party_job = fec.groupby(['party', 'contbr_occupation']).sum()['contb_receipt_amt']\n",
    "amount_party_job = amount_party_job.unstack(0)\n",
    "sorting_idx = amount_party_job.sum(1).sort_values(ascending=False).index\n",
    "sorting_idx = sorting_idx[0:10]\n",
    "to_plot = amount_party_job.loc[sorting_idx, :] #it's a dataframe\n",
    "to_plot.plot(kind='barh')"
   ]
  },
  {
   "cell_type": "code",
   "execution_count": null,
   "metadata": {},
   "outputs": [],
   "source": [
    "#an alternative way to make plots.\n",
    "#the trick is make a designated column for party affiliation\n",
    "import seaborn as sns \n",
    "sns_plot = to_plot.reset_index().melt(id_vars='contbr_occupation', value_vars=['Democrat', 'Republican'])\n",
    "sns.barplot(data=sns_plot, hue='party', x='value', y='contbr_occupation')"
   ]
  },
  {
   "cell_type": "markdown",
   "metadata": {},
   "source": [
    "## Top doners by candidates"
   ]
  },
  {
   "cell_type": "code",
   "execution_count": null,
   "metadata": {},
   "outputs": [],
   "source": [
    "two_cand = fec.loc[fec.cand_nm.isin(['Obama, Barack', 'Romney, Mitt']), :]\n",
    "two_cand.head()"
   ]
  },
  {
   "cell_type": "code",
   "execution_count": null,
   "metadata": {},
   "outputs": [],
   "source": [
    "def find_top_contrs(df):\n",
    "    df = df.groupby('contbr_occupation').sum()['contb_receipt_amt']\n",
    "    df = df.sort_values(ascending=False) #series sort values does not to pass anything...\n",
    "    return df[0:5]"
   ]
  },
  {
   "cell_type": "code",
   "execution_count": null,
   "metadata": {},
   "outputs": [],
   "source": [
    "result_two_cand = two_cand.groupby(['cand_nm']).apply(find_top_contrs)\n",
    "result_two_cand"
   ]
  },
  {
   "cell_type": "code",
   "execution_count": null,
   "metadata": {},
   "outputs": [],
   "source": [
    "def find_top_employer(df):\n",
    "    df = df.groupby('contbr_employer').sum()['contb_receipt_amt']\n",
    "    df = df.sort_values(ascending=False) #series sort values does not to pass anything...\n",
    "    return df[0:10]"
   ]
  },
  {
   "cell_type": "code",
   "execution_count": null,
   "metadata": {},
   "outputs": [],
   "source": [
    "result_two_cand = two_cand.groupby(['cand_nm']).apply(find_top_employer)\n",
    "result_two_cand"
   ]
  },
  {
   "cell_type": "markdown",
   "metadata": {},
   "source": [
    "The importand lesson learned here, is we can perform a groupby operation inside a groupby. In this case, for each presidnetial condidate, we groupby the occupations of their doner and find the top occupations/employers."
   ]
  },
  {
   "cell_type": "code",
   "execution_count": null,
   "metadata": {},
   "outputs": [],
   "source": [
    "def find_top_state(df):\n",
    "    df = df.groupby('contbr_st').sum()['contb_receipt_amt']\n",
    "    df = df.sort_values(ascending=False) #series sort values does not to pass anything...\n",
    "    return df\n",
    "result_two_cand = two_cand.groupby(['cand_nm']).apply(find_top_state)\n",
    "result_two_cand.head()"
   ]
  },
  {
   "cell_type": "code",
   "execution_count": null,
   "metadata": {},
   "outputs": [],
   "source": [
    "two_cand_by_state = result_two_cand.unstack(0).dropna()\n",
    "index = two_cand_by_state.sum(1).sort_values(ascending=False)[0:20].index #get top doner states\n",
    "two_cand_by_state.div(two_cand_by_state.sum(1).values, axis=0).loc[index, :] #just get the ratio split, order by amount"
   ]
  },
  {
   "cell_type": "markdown",
   "metadata": {},
   "source": [
    "# Bucketing Donation Amounts\n",
    "\n",
    "This part is about bucketing or dicretizing the continuous variables into buckets. The most commonly used are the qcut function and cut function. The first one let you cut threshod while the second function gauretees that you can always have a equal sample size. "
   ]
  },
  {
   "cell_type": "code",
   "execution_count": null,
   "metadata": {},
   "outputs": [],
   "source": [
    "import numpy as np\n",
    "bins = np.array([0, 1, 10, 100, 1000, 10000,100000, 1000000, 10000000])\n",
    "two_cand['bins'] = pd.cut(two_cand.contb_receipt_amt, bins)"
   ]
  },
  {
   "cell_type": "code",
   "execution_count": null,
   "metadata": {},
   "outputs": [],
   "source": [
    "two_c = two_cand.groupby(['cand_nm', 'bins']).count()['contb_receipt_amt']\n",
    "two_c"
   ]
  },
  {
   "cell_type": "code",
   "execution_count": null,
   "metadata": {},
   "outputs": [],
   "source": [
    "two_c.unstack(0)."
   ]
  },
  {
   "cell_type": "code",
   "execution_count": null,
   "metadata": {},
   "outputs": [],
   "source": [
    "two_c_prop = two_cand.groupby(['cand_nm', 'bins']).sum()['contb_receipt_amt'].unstack(0)\n",
    "pp = two_c_prop.div(two_c_prop.sum(1), axis=0)"
   ]
  },
  {
   "cell_type": "code",
   "execution_count": null,
   "metadata": {},
   "outputs": [],
   "source": [
    "pp[0:-2].plot.barh(title='the table of donation size')"
   ]
  }
 ],
 "metadata": {
  "kernelspec": {
   "display_name": "Python 3",
   "language": "python",
   "name": "python3"
  },
  "language_info": {
   "codemirror_mode": {
    "name": "ipython",
    "version": 3
   },
   "file_extension": ".py",
   "mimetype": "text/x-python",
   "name": "python",
   "nbconvert_exporter": "python",
   "pygments_lexer": "ipython3",
   "version": "3.6.6"
  }
 },
 "nbformat": 4,
 "nbformat_minor": 2
}
