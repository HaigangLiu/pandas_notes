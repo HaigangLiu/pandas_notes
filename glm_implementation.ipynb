{
 "cells": [
  {
   "cell_type": "markdown",
   "metadata": {},
   "source": [
    "# Poisson regression"
   ]
  },
  {
   "cell_type": "code",
   "execution_count": 45,
   "metadata": {},
   "outputs": [],
   "source": [
    "import pymc3 as pm\n",
    "import pandas as pd \n",
    "import numpy as np "
   ]
  },
  {
   "cell_type": "markdown",
   "metadata": {},
   "source": [
    "Replicate the monkey killing example from 705. This is to showcase how to fit a generalized linear regression with certain link functions and families. Here's the data first. "
   ]
  },
  {
   "cell_type": "code",
   "execution_count": 2,
   "metadata": {},
   "outputs": [],
   "source": [
    "ache_hunting = '''\n",
    "67 0 3 66 0 89 63 29 106 60 2 4\n",
    "61 0 28 59 2 73 58 3 7 57 0 13\n",
    "56 0 4 56 3 104 55 27 126 54 0 63\n",
    "51 7 88 50 0 7 48 3 3 49 0 56\n",
    "47 6 70 42 1 18 39 0 4 40 7 83\n",
    "40 4 15 39 1 19 37 2 29 35 2 48\n",
    "35 0 35 33 0 10 33 19 75 32 9 63\n",
    "32 0 16 31 0 13 30 0 20 30 2 26\n",
    "28 0 4 27 0 13 25 0 10 22 0 16\n",
    "22 0 33 21 0 7 20 0 33 18 0 8\n",
    "17 0 3 17 0 13 17 0 3 56 0 62\n",
    "62 1 4 59 1 4 20 0 11\n",
    "'''"
   ]
  },
  {
   "cell_type": "code",
   "execution_count": 44,
   "metadata": {},
   "outputs": [
    {
     "data": {
      "text/html": [
       "<div>\n",
       "<style scoped>\n",
       "    .dataframe tbody tr th:only-of-type {\n",
       "        vertical-align: middle;\n",
       "    }\n",
       "\n",
       "    .dataframe tbody tr th {\n",
       "        vertical-align: top;\n",
       "    }\n",
       "\n",
       "    .dataframe thead th {\n",
       "        text-align: right;\n",
       "    }\n",
       "</style>\n",
       "<table border=\"1\" class=\"dataframe\">\n",
       "  <thead>\n",
       "    <tr style=\"text-align: right;\">\n",
       "      <th></th>\n",
       "      <th>age</th>\n",
       "      <th>kills</th>\n",
       "      <th>days</th>\n",
       "    </tr>\n",
       "  </thead>\n",
       "  <tbody>\n",
       "    <tr>\n",
       "      <th>0</th>\n",
       "      <td>67.0</td>\n",
       "      <td>0.0</td>\n",
       "      <td>3.0</td>\n",
       "    </tr>\n",
       "    <tr>\n",
       "      <th>1</th>\n",
       "      <td>66.0</td>\n",
       "      <td>0.0</td>\n",
       "      <td>89.0</td>\n",
       "    </tr>\n",
       "    <tr>\n",
       "      <th>2</th>\n",
       "      <td>63.0</td>\n",
       "      <td>29.0</td>\n",
       "      <td>106.0</td>\n",
       "    </tr>\n",
       "    <tr>\n",
       "      <th>3</th>\n",
       "      <td>60.0</td>\n",
       "      <td>2.0</td>\n",
       "      <td>4.0</td>\n",
       "    </tr>\n",
       "    <tr>\n",
       "      <th>4</th>\n",
       "      <td>61.0</td>\n",
       "      <td>0.0</td>\n",
       "      <td>28.0</td>\n",
       "    </tr>\n",
       "  </tbody>\n",
       "</table>\n",
       "</div>"
      ],
      "text/plain": [
       "    age  kills   days\n",
       "0  67.0    0.0    3.0\n",
       "1  66.0    0.0   89.0\n",
       "2  63.0   29.0  106.0\n",
       "3  60.0    2.0    4.0\n",
       "4  61.0    0.0   28.0"
      ]
     },
     "execution_count": 44,
     "metadata": {},
     "output_type": "execute_result"
    }
   ],
   "source": [
    "arr = []\n",
    "for line in ache_hunting.splitlines():\n",
    "    if line:\n",
    "        line_ = line.split(' ')\n",
    "        line_ = [float(i) for i in line_]\n",
    "        arr.extend(line_)\n",
    "    \n",
    "age = [arr[i] for i in range(len(arr)) if i%3==0]\n",
    "kills = [arr[i] for i in range(len(arr)) if i%3==1]\n",
    "days = [arr[i] for i in range(len(arr)) if i%3==2]\n",
    "ache_df = pd.DataFrame({'age':age, 'kills':kills, 'days':days})\n",
    "ache_df.head()"
   ]
  },
  {
   "cell_type": "markdown",
   "metadata": {},
   "source": [
    "At each point in the range of the data set a low-degree polynomial is fitted to a subset of the data, and this method is used initially for scatterplot smoothing. Here's plot of the rate."
   ]
  },
  {
   "cell_type": "code",
   "execution_count": 66,
   "metadata": {
    "scrolled": true
   },
   "outputs": [
    {
     "data": {
      "text/plain": [
       "Text(0.5, 1.0, 'scatter plot and lowess plot')"
      ]
     },
     "execution_count": 66,
     "metadata": {},
     "output_type": "execute_result"
    },
    {
     "data": {
      "image/png": "[encoded data removed]",
      "text/plain": [
       "<Figure size 432x288 with 1 Axes>"
      ]
     },
     "metadata": {
      "needs_background": "light"
     },
     "output_type": "display_data"
    }
   ],
   "source": [
    "import matplotlib.pyplot as plt\n",
    "import statsmodels.api as sm\n",
    "\n",
    "x_days = ache_df.age.values\n",
    "y_rates = ache_df.kills.values/ache_df.days.values\n",
    "f = plt.figure()\n",
    "axes = f.add_subplot(1,1,1)\n",
    "axes.scatter(x_days, y_rates)\n",
    "\n",
    "predicted = sm.nonparametric.lowess(y_rates, x_days, frac=0.7)\n",
    "axes.plot(predicted[:, 0], predicted[:, 1])\n",
    "axes.set_title('scatter plot and lowess plot')"
   ]
  },
  {
   "cell_type": "code",
   "execution_count": 67,
   "metadata": {},
   "outputs": [
    {
     "data": {
      "text/html": [
       "<table class=\"simpletable\">\n",
       "<caption>Generalized Linear Model Regression Results</caption>\n",
       "<tr>\n",
       "  <th>Dep. Variable:</th>        <td>kills</td>      <th>  No. Observations:  </th>  <td>    47</td>  \n",
       "</tr>\n",
       "<tr>\n",
       "  <th>Model:</th>                 <td>GLM</td>       <th>  Df Residuals:      </th>  <td>    44</td>  \n",
       "</tr>\n",
       "<tr>\n",
       "  <th>Model Family:</th>        <td>Poisson</td>     <th>  Df Model:          </th>  <td>     2</td>  \n",
       "</tr>\n",
       "<tr>\n",
       "  <th>Link Function:</th>         <td>log</td>       <th>  Scale:             </th> <td>  1.0000</td> \n",
       "</tr>\n",
       "<tr>\n",
       "  <th>Method:</th>               <td>IRLS</td>       <th>  Log-Likelihood:    </th> <td> -124.89</td> \n",
       "</tr>\n",
       "<tr>\n",
       "  <th>Date:</th>           <td>Fri, 11 Jan 2019</td> <th>  Deviance:          </th> <td>  186.01</td> \n",
       "</tr>\n",
       "<tr>\n",
       "  <th>Time:</th>               <td>14:04:43</td>     <th>  Pearson chi2:      </th>  <td>  198.</td>  \n",
       "</tr>\n",
       "<tr>\n",
       "  <th>No. Iterations:</th>         <td>6</td>        <th>  Covariance Type:   </th> <td>nonrobust</td>\n",
       "</tr>\n",
       "</table>\n",
       "<table class=\"simpletable\">\n",
       "<tr>\n",
       "          <td></td>            <th>coef</th>     <th>std err</th>      <th>z</th>      <th>P>|z|</th>  <th>[0.025</th>    <th>0.975]</th>  \n",
       "</tr>\n",
       "<tr>\n",
       "  <th>Intercept</th>        <td>   -5.4842</td> <td>    1.245</td> <td>   -4.406</td> <td> 0.000</td> <td>   -7.924</td> <td>   -3.045</td>\n",
       "</tr>\n",
       "<tr>\n",
       "  <th>age</th>              <td>    0.1246</td> <td>    0.057</td> <td>    2.196</td> <td> 0.028</td> <td>    0.013</td> <td>    0.236</td>\n",
       "</tr>\n",
       "<tr>\n",
       "  <th>np.power(age, 2)</th> <td>   -0.0012</td> <td>    0.001</td> <td>   -1.943</td> <td> 0.052</td> <td>   -0.002</td> <td> 1.04e-05</td>\n",
       "</tr>\n",
       "</table>"
      ],
      "text/plain": [
       "<class 'statsmodels.iolib.summary.Summary'>\n",
       "\"\"\"\n",
       "                 Generalized Linear Model Regression Results                  \n",
       "==============================================================================\n",
       "Dep. Variable:                  kills   No. Observations:                   47\n",
       "Model:                            GLM   Df Residuals:                       44\n",
       "Model Family:                 Poisson   Df Model:                            2\n",
       "Link Function:                    log   Scale:                          1.0000\n",
       "Method:                          IRLS   Log-Likelihood:                -124.89\n",
       "Date:                Fri, 11 Jan 2019   Deviance:                       186.01\n",
       "Time:                        14:04:43   Pearson chi2:                     198.\n",
       "No. Iterations:                     6   Covariance Type:             nonrobust\n",
       "====================================================================================\n",
       "                       coef    std err          z      P>|z|      [0.025      0.975]\n",
       "------------------------------------------------------------------------------------\n",
       "Intercept           -5.4842      1.245     -4.406      0.000      -7.924      -3.045\n",
       "age                  0.1246      0.057      2.196      0.028       0.013       0.236\n",
       "np.power(age, 2)    -0.0012      0.001     -1.943      0.052      -0.002    1.04e-05\n",
       "====================================================================================\n",
       "\"\"\""
      ]
     },
     "execution_count": 67,
     "metadata": {},
     "output_type": "execute_result"
    }
   ],
   "source": [
    "from statsmodels.genmod.families.links import log as log_link\n",
    "import statsmodels.formula.api as smf\n",
    "\n",
    "m = smf.glm('kills ~ age + np.power(age, 2)', \n",
    "            data=ache_df,\n",
    "            offset=np.log(ache_df['days']),\n",
    "            family=sm.families.Poisson(link=log_link())).fit()\n",
    "m.summary()"
   ]
  },
  {
   "cell_type": "markdown",
   "metadata": {},
   "source": [
    "## here's some diagnosis\n",
    "there's a method to sort of standardize residuals so that they comform a certain kind of distribution. One common method is pearson residual, which is calculated by dividing the raw residuals with square root of predicted values. This graph can be used to spot ill-fitted points."
   ]
  },
  {
   "cell_type": "code",
   "execution_count": 86,
   "metadata": {},
   "outputs": [
    {
     "data": {
      "text/plain": [
       "True"
      ]
     },
     "execution_count": 86,
     "metadata": {},
     "output_type": "execute_result"
    }
   ],
   "source": [
    "np.allclose(m.resid_pearson, (ache_df.kills - m.fittedvalues )/np.sqrt(m.fittedvalues))"
   ]
  },
  {
   "cell_type": "code",
   "execution_count": 92,
   "metadata": {},
   "outputs": [
    {
     "data": {
      "text/plain": [
       "<StemContainer object of 3 artists>"
      ]
     },
     "execution_count": 92,
     "metadata": {},
     "output_type": "execute_result"
    },
    {
     "data": {
      "image/png": "[encoded data removed]",
      "text/plain": [
       "<Figure size 432x288 with 1 Axes>"
      ]
     },
     "metadata": {
      "needs_background": "light"
     },
     "output_type": "display_data"
    }
   ],
   "source": [
    "#make a plot that's kinda like cook's distance\n",
    "plt.stem(m.resid_pearson, markerfmt='o')"
   ]
  },
  {
   "cell_type": "code",
   "execution_count": 106,
   "metadata": {},
   "outputs": [],
   "source": [
    "#this statistic is used to find out the chi square test result\n",
    "chi_square_stat = np.sum(np.square(m.resid_pearson))\n",
    "built_in = m.pearson_chi2"
   ]
  },
  {
   "cell_type": "markdown",
   "metadata": {},
   "source": [
    "1. The residual plot (pearson residual should roughly go around a straight line. The line can be implemented by smoothing (local regression).\n",
    "2. if it's pearson residual or studentized pearson residuals, the points are supposed to be spreading out evenly and a megaphone shape is not OK.\n",
    "3. The distribution assumption of possion residuals are based on normal approximation (the second bullet point), which means the condition for approximation has to be satisfied. For Poisson distribution, the lamdba has to be large enough. And thus approximation might have problems for accounts around zero!"
   ]
  },
  {
   "cell_type": "code",
   "execution_count": 121,
   "metadata": {},
   "outputs": [
    {
     "data": {
      "text/plain": [
       "[<matplotlib.lines.Line2D at 0x1c28b6cdd8>]"
      ]
     },
     "execution_count": 121,
     "metadata": {},
     "output_type": "execute_result"
    },
    {
     "data": {
      "image/png": "[encoded data removed]",
      "text/plain": [
       "<Figure size 432x288 with 2 Axes>"
      ]
     },
     "metadata": {
      "needs_background": "light"
     },
     "output_type": "display_data"
    }
   ],
   "source": [
    "f, [ax1, ax2] = plt.subplots(1, 2)\n",
    "ax1.scatter(m.fittedvalues, m.resid_pearson)\n",
    "ax2.scatter(ache_df.age.values, m.resid_pearson)\n",
    "\n",
    "predicted = sm.nonparametric.lowess(m.resid_pearson, m.fittedvalues)\n",
    "ax1.plot(predicted[:, 0], predicted[:, 1])\n",
    "\n",
    "predicted2 = sm.nonparametric.lowess(m.resid_pearson, ache_df.age.values)\n",
    "ax2.plot(predicted2[:, 0], predicted2[:, 1])"
   ]
  },
  {
   "cell_type": "markdown",
   "metadata": {},
   "source": [
    "The above figure has an issue: the variances is too high! Note that Pearson residuals should have variances smaller than 1. This extra Poisson variability is referred as overdispersion."
   ]
  }
 ],
 "metadata": {
  "kernelspec": {
   "display_name": "Python 3",
   "language": "python",
   "name": "python3"
  },
  "language_info": {
   "codemirror_mode": {
    "name": "ipython",
    "version": 3
   },
   "file_extension": ".py",
   "mimetype": "text/x-python",
   "name": "python",
   "nbconvert_exporter": "python",
   "pygments_lexer": "ipython3",
   "version": "3.6.6"
  }
 },
 "nbformat": 4,
 "nbformat_minor": 2
}
