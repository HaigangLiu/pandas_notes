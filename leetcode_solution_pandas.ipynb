{
 "cells": [
  {
   "cell_type": "markdown",
   "metadata": {},
   "source": [
    "# Q1 merge function\n",
    "Write a SQL query for a report that provides the following information for each person in the Person table, regardless if there is an address for each of those people\n",
    "Remark: this is a left join problem since everyone's name on the left has to be kept. And dont forget to do slicing in the end."
   ]
  },
  {
   "cell_type": "code",
   "execution_count": 11,
   "metadata": {},
   "outputs": [],
   "source": [
    "import pandas as pd\n",
    "table_1 = pd.DataFrame({'PersonId':[10, 11], \n",
    "                        'FirstName':['Allen', 'Mike'], \n",
    "                        'LastName':['Koch', 'Steven'] })\n",
    "table_2 = pd.DataFrame({'Address':['800_street', '700_street'], \n",
    "                        'PersonId':[10, 15], \n",
    "                        'City':['Columbia', 'Sparta'],\n",
    "                        'State': ['SC', 'GA']})\n",
    "left_j = pd.merge(table_1, table_2, \n",
    "                  left_on='PersonId', \n",
    "                  right_on='PersonId', \n",
    "                  how='left')"
   ]
  },
  {
   "cell_type": "code",
   "execution_count": 15,
   "metadata": {},
   "outputs": [
    {
     "data": {
      "text/html": [
       "<div>\n",
       "<style scoped>\n",
       "    .dataframe tbody tr th:only-of-type {\n",
       "        vertical-align: middle;\n",
       "    }\n",
       "\n",
       "    .dataframe tbody tr th {\n",
       "        vertical-align: top;\n",
       "    }\n",
       "\n",
       "    .dataframe thead th {\n",
       "        text-align: right;\n",
       "    }\n",
       "</style>\n",
       "<table border=\"1\" class=\"dataframe\">\n",
       "  <thead>\n",
       "    <tr style=\"text-align: right;\">\n",
       "      <th></th>\n",
       "      <th>FirstName</th>\n",
       "      <th>LastName</th>\n",
       "      <th>City</th>\n",
       "      <th>State</th>\n",
       "    </tr>\n",
       "  </thead>\n",
       "  <tbody>\n",
       "    <tr>\n",
       "      <th>0</th>\n",
       "      <td>Allen</td>\n",
       "      <td>Koch</td>\n",
       "      <td>Columbia</td>\n",
       "      <td>SC</td>\n",
       "    </tr>\n",
       "    <tr>\n",
       "      <th>1</th>\n",
       "      <td>Mike</td>\n",
       "      <td>Steven</td>\n",
       "      <td>NaN</td>\n",
       "      <td>NaN</td>\n",
       "    </tr>\n",
       "  </tbody>\n",
       "</table>\n",
       "</div>"
      ],
      "text/plain": [
       "  FirstName LastName      City State\n",
       "0     Allen     Koch  Columbia    SC\n",
       "1      Mike   Steven       NaN   NaN"
      ]
     },
     "execution_count": 15,
     "metadata": {},
     "output_type": "execute_result"
    }
   ],
   "source": [
    "result = left_j[['FirstName', 'LastName', 'City', 'State']]\n",
    "result"
   ]
  },
  {
   "cell_type": "code",
   "execution_count": 16,
   "metadata": {},
   "outputs": [],
   "source": [
    "#alternative_solution \n",
    "table_1.set_index('PersonId', inplace=True)\n",
    "table_2.set_index('PersonId', inplace=True)\n",
    "alternative = pd.merge(table_1, table_2, how='left', left_index=True, right_index=True)\n",
    "output = alternative[['FirstName', 'LastName', 'City', 'State']].reset_index(drop=False)"
   ]
  },
  {
   "cell_type": "markdown",
   "metadata": {},
   "source": [
    "# Q2 drop_duplicates and sort_values\n",
    "Second highest salary. Just need the value. Return None if it's not there \n",
    "\n",
    "Some clarification:\n",
    "1. according to the discussion board on leetcode, this is a distinctive order. Which means if there's two highest, then the next lowest one is going to be considered to be the second highest. \n",
    "2. Hence, by 'no second highest', the question refers to a situation where everyone is equally paid.\n",
    "\n",
    "Notes:\n",
    "1. ascending needs to be set to false since this is to find the second highest salary. This is  easy to forget.\n",
    "2. to get the null situaion, one can use a try-except clause.\n",
    "3. dont do pd.unique unless you know what you are doing since that operation returns a numpy array and all index info will be thrown away!"
   ]
  },
  {
   "cell_type": "code",
   "execution_count": 128,
   "metadata": {},
   "outputs": [],
   "source": [
    "salary = [i*100 for i in range(4)]\n",
    "salary_table = pd.DataFrame({'Id': list(range(4)), 'Salary':salary})\n",
    "# salary_table = pd.DataFrame({'Id': list(range(4)), 'Salary':[100, 100, 100, 100]})\n",
    "\n",
    "unique_list = salary_table['Salary'].drop_duplicates()\n",
    "try:\n",
    "    second_highest = unique_list.sort_values(ascending=False).iloc[1]\n",
    "except IndexError:\n",
    "    second_highest = None\n",
    "\n",
    "output_table = pd.DataFrame({'SecondHighestSalary':[second_highest]})"
   ]
  },
  {
   "cell_type": "markdown",
   "metadata": {},
   "source": [
    "There's a way to get around the try except thing. Use the df.get() function, because you can pass a default value, which is None in this case. \n",
    "\n",
    "This way has more traps so be careful.\n",
    "\n",
    "1. drop_duplicates will retain the index. Hence, if we got 300, 300, 100, 100, the second index is going to be droppped, and when we are trying to get index 1, then it will return us None, but actually this is not the behavior we want since 100 is the second highest. That's why we got to reset_index()\n",
    "\n",
    "2. A second trap is get(). It functions like loc, not iloc. We can do get(1, None) is because after reset_index() sets all the index to integers, and thus integer is the label!"
   ]
  },
  {
   "cell_type": "code",
   "execution_count": 173,
   "metadata": {},
   "outputs": [
    {
     "name": "stdout",
     "output_type": "stream",
     "text": [
      "   SecondHighestSalary\n",
      "0                  200\n"
     ]
    }
   ],
   "source": [
    "salary = [i*100 for i in range(4)]\n",
    "salary_table = pd.DataFrame({'Id': list(range(4)), 'Salary':salary})\n",
    "# salary_table = pd.DataFrame({'Id': list(range(4)), 'Salary':[300, 300, 100, 100]})\n",
    "# salary_table = pd.DataFrame({'Id': list(range(4)), 'Salary':[100, 100, 100, 100]})\n",
    "\n",
    "unique_list = salary_table['Salary'].\\\n",
    "                drop_duplicates().\\\n",
    "                sort_values(ascending=False).\\\n",
    "                reset_index(drop=True)\n",
    "second_highest = unique_list.get(1, None)\n",
    "\n",
    "output_table = pd.DataFrame({'SecondHighestSalary':[second_highest]})\n",
    "print(output_table)"
   ]
  },
  {
   "cell_type": "markdown",
   "metadata": {},
   "source": [
    "# Q3 use get() as a series method\n",
    "Nth highest salary. Same with Question 2. Change 2 to N"
   ]
  },
  {
   "cell_type": "code",
   "execution_count": 185,
   "metadata": {},
   "outputs": [
    {
     "name": "stdout",
     "output_type": "stream",
     "text": [
      "   NthHighestSalary\n",
      "0               100\n"
     ]
    }
   ],
   "source": [
    "Nth = 3\n",
    "\n",
    "salary_table = pd.DataFrame({'Id': list(range(4)), 'Salary':[300, 200, 100, 0]})\n",
    "salary_table = pd.DataFrame({'Id': list(range(4)), 'Salary':[300, 300, 200, 100]})\n",
    "# salary_table = pd.DataFrame({'Id': list(range(4)), 'Salary':[100, 100, 100, 100]})\n",
    "\n",
    "unique_list = salary_table['Salary'].\\\n",
    "                drop_duplicates().\\\n",
    "                sort_values(ascending=False).\\\n",
    "                reset_index(drop=True)\n",
    "\n",
    "nth_highest = unique_list.get(Nth-1, None)\n",
    "output_table = pd.DataFrame({'NthHighestSalary':[nth_highest]})\n",
    "print(output_table)"
   ]
  },
  {
   "cell_type": "markdown",
   "metadata": {},
   "source": [
    "# Q4 rank function and dense option\n",
    "rank the scores in the dataframe. \n",
    "1. Use the built in function rank, which gives smaller values higher rank, and we need to reverse that by ascending=False.\n",
    "2. As for sorting options, \n",
    "    * method = 'max' will have 1,3,3,4. because the same value occurred in the second and third position. \n",
    "    * And a similar situation will give 1, 2, 2, 4 if method='min'. \n",
    "    * method='first' will give 1,2,3,4 and 2 belongs to whoever comes first and \n",
    "    * 'dense' option is what we wanted here because it will give 1, 2,2, 3. In other words, the rank can be much smaller (more dense) than the index itself. "
   ]
  },
  {
   "cell_type": "code",
   "execution_count": 222,
   "metadata": {
    "scrolled": true
   },
   "outputs": [
    {
     "data": {
      "text/html": [
       "<div>\n",
       "<style scoped>\n",
       "    .dataframe tbody tr th:only-of-type {\n",
       "        vertical-align: middle;\n",
       "    }\n",
       "\n",
       "    .dataframe tbody tr th {\n",
       "        vertical-align: top;\n",
       "    }\n",
       "\n",
       "    .dataframe thead th {\n",
       "        text-align: right;\n",
       "    }\n",
       "</style>\n",
       "<table border=\"1\" class=\"dataframe\">\n",
       "  <thead>\n",
       "    <tr style=\"text-align: right;\">\n",
       "      <th></th>\n",
       "      <th>score</th>\n",
       "      <th>rank</th>\n",
       "    </tr>\n",
       "  </thead>\n",
       "  <tbody>\n",
       "    <tr>\n",
       "      <th>2</th>\n",
       "      <td>5.0</td>\n",
       "      <td>1</td>\n",
       "    </tr>\n",
       "    <tr>\n",
       "      <th>0</th>\n",
       "      <td>3.2</td>\n",
       "      <td>2</td>\n",
       "    </tr>\n",
       "    <tr>\n",
       "      <th>1</th>\n",
       "      <td>1.0</td>\n",
       "      <td>3</td>\n",
       "    </tr>\n",
       "    <tr>\n",
       "      <th>3</th>\n",
       "      <td>1.0</td>\n",
       "      <td>3</td>\n",
       "    </tr>\n",
       "    <tr>\n",
       "      <th>4</th>\n",
       "      <td>0.5</td>\n",
       "      <td>4</td>\n",
       "    </tr>\n",
       "  </tbody>\n",
       "</table>\n",
       "</div>"
      ],
      "text/plain": [
       "   score  rank\n",
       "2    5.0     1\n",
       "0    3.2     2\n",
       "1    1.0     3\n",
       "3    1.0     3\n",
       "4    0.5     4"
      ]
     },
     "execution_count": 222,
     "metadata": {},
     "output_type": "execute_result"
    }
   ],
   "source": [
    "score_and_id = pd.DataFrame({'id': range(5), 'score': [3.2,1, 5,1, 0.5]})\n",
    "score_and_id['id'] = score_and_id.id.astype(np.int64)\n",
    "score_and_id['rank'] = score_and_id['score'].rank(ascending=False, method='dense').astype(int)\n",
    "output = score_and_id.drop('id', axis=1).sort_values('rank')\n",
    "output"
   ]
  },
  {
   "cell_type": "markdown",
   "metadata": {},
   "source": [
    "# Q5 \n",
    "\n",
    "Currently this is an ugly fix. Just write a custom function to find a list of such values. "
   ]
  },
  {
   "cell_type": "code",
   "execution_count": 306,
   "metadata": {},
   "outputs": [
    {
     "data": {
      "text/html": [
       "<div>\n",
       "<style scoped>\n",
       "    .dataframe tbody tr th:only-of-type {\n",
       "        vertical-align: middle;\n",
       "    }\n",
       "\n",
       "    .dataframe tbody tr th {\n",
       "        vertical-align: top;\n",
       "    }\n",
       "\n",
       "    .dataframe thead th {\n",
       "        text-align: right;\n",
       "    }\n",
       "</style>\n",
       "<table border=\"1\" class=\"dataframe\">\n",
       "  <thead>\n",
       "    <tr style=\"text-align: right;\">\n",
       "      <th></th>\n",
       "      <th>ConsecutiveNumber</th>\n",
       "    </tr>\n",
       "  </thead>\n",
       "  <tbody>\n",
       "    <tr>\n",
       "      <th>0</th>\n",
       "      <td>1</td>\n",
       "    </tr>\n",
       "  </tbody>\n",
       "</table>\n",
       "</div>"
      ],
      "text/plain": [
       "   ConsecutiveNumber\n",
       "0                  1"
      ]
     },
     "execution_count": 306,
     "metadata": {},
     "output_type": "execute_result"
    }
   ],
   "source": [
    "find_consecutive_numbers = pd.DataFrame({'id': range(1,8), 'Num': [1,1,1,2,1,2,2]})\n",
    "\n",
    "def find_consecutive(list_, num_of_consecutives=3):\n",
    "    counter = 0\n",
    "    temp = list_[0]\n",
    "    result = []\n",
    "    \n",
    "    for i in list_:\n",
    "        if temp == i:\n",
    "            counter = counter + 1\n",
    "        else:\n",
    "            counter = 0 \n",
    "        temp = i\n",
    "        if counter == num_of_consecutives-1:\n",
    "            result.append(i)        \n",
    "    return result\n",
    "\n",
    "cc = find_consecutive(find_consecutive_numbers['Num'])\n",
    "pd.DataFrame({'ConsecutiveNumber':cc})"
   ]
  },
  {
   "cell_type": "code",
   "execution_count": null,
   "metadata": {},
   "outputs": [],
   "source": []
  }
 ],
 "metadata": {
  "kernelspec": {
   "display_name": "Python 3",
   "language": "python",
   "name": "python3"
  },
  "language_info": {
   "codemirror_mode": {
    "name": "ipython",
    "version": 3
   },
   "file_extension": ".py",
   "mimetype": "text/x-python",
   "name": "python",
   "nbconvert_exporter": "python",
   "pygments_lexer": "ipython3",
   "version": "3.6.6"
  }
 },
 "nbformat": 4,
 "nbformat_minor": 2
}
