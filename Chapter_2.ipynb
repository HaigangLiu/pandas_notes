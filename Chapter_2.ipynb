{
 "cells": [
  {
   "cell_type": "markdown",
   "metadata": {},
   "source": [
    "# Python basics\n"
   ]
  },
  {
   "cell_type": "markdown",
   "metadata": {},
   "source": [
    "Not really the basics. More like \"the things that you probably did not notice before\". Likewise, there  another github project wtfpython, which points out several counter-intuitive behaviors of python, is also pretty fun."
   ]
  },
  {
   "cell_type": "markdown",
   "metadata": {},
   "source": [
    "## 1. reference and object"
   ]
  },
  {
   "cell_type": "markdown",
   "metadata": {},
   "source": [
    "When assigning a variable in Python, you are creating a reference to the object on the right hand side. And the following code"
   ]
  },
  {
   "cell_type": "code",
   "execution_count": 9,
   "metadata": {},
   "outputs": [
    {
     "name": "stdout",
     "output_type": "stream",
     "text": [
      "True\n"
     ]
    }
   ],
   "source": [
    "a = [1,2,3]\n",
    "b = a\n",
    "print(a is b)"
   ]
  },
  {
   "cell_type": "markdown",
   "metadata": {},
   "source": [
    "shows that a and b are in fact just two references that are pointing to the same list object. Hence, if we change a, then b will be changed as well. Here's a demostration:"
   ]
  },
  {
   "cell_type": "code",
   "execution_count": 10,
   "metadata": {},
   "outputs": [
    {
     "name": "stdout",
     "output_type": "stream",
     "text": [
      "[1, 2, 3, 4]\n",
      "[1, 2, 3, 4]\n"
     ]
    }
   ],
   "source": [
    "a.append(4)\n",
    "print(a)\n",
    "print(b)"
   ]
  },
  {
   "cell_type": "markdown",
   "metadata": {},
   "source": [
    "This won't happen if b has been an independent copy of a. By the way, the referencing is also called binding, as we are binding a name to an object."
   ]
  },
  {
   "cell_type": "markdown",
   "metadata": {},
   "source": [
    "It is getting more interesting when a function's involved. When passing a list to a function, what happens is this function creates a local variable that links to the list as well (local binding). Again, it's not a copy. Hence, that list, once altered inside the function, will be changed everywhere. Example is given below."
   ]
  },
  {
   "cell_type": "code",
   "execution_count": 11,
   "metadata": {},
   "outputs": [
    {
     "name": "stdout",
     "output_type": "stream",
     "text": [
      "[1, 2, 3, 3]\n"
     ]
    }
   ],
   "source": [
    "x = [1,2,3]\n",
    "def change_inside(y):\n",
    "    y.append(3)\n",
    "    return 0\n",
    "    \n",
    "change_inside(x)\n",
    "print(x)"
   ]
  },
  {
   "cell_type": "markdown",
   "metadata": {},
   "source": [
    "To recap, python can alter user supplied data! And technically, Python is a pass-by-object-reference programming language."
   ]
  },
  {
   "cell_type": "markdown",
   "metadata": {},
   "source": [
    "Another side effect is, the variable, or the reference of object, does not have a type constraint and thus you can first define a as a string then change it to int with no problem."
   ]
  },
  {
   "cell_type": "code",
   "execution_count": 12,
   "metadata": {},
   "outputs": [],
   "source": [
    "a = 'string'; a = 5"
   ]
  },
  {
   "cell_type": "markdown",
   "metadata": {},
   "source": [
    "However, Python is still a typed language because you cannot add an int to a string, while some other languages like VB, can. And implicity cast/conversion only happen in obvious cases like adding an integer with a float number. "
   ]
  },
  {
   "cell_type": "markdown",
   "metadata": {},
   "source": [
    "## 2. Something about strings"
   ]
  },
  {
   "cell_type": "markdown",
   "metadata": {},
   "source": [
    "String formatting or templating allows us to control how string looks like. In the floowing code, .2f means 2-digit floating number, d mean whole number and s means string. Besides, the number in the beginning of each bracket is position."
   ]
  },
  {
   "cell_type": "code",
   "execution_count": 18,
   "metadata": {},
   "outputs": [
    {
     "data": {
      "text/plain": [
       "'first placeholder ->  0.13, second placeholder -> 12 third -> name'"
      ]
     },
     "execution_count": 18,
     "metadata": {},
     "output_type": "execute_result"
    }
   ],
   "source": [
    "this_is_a_template = 'first placeholder -> {0: .2f}, second placeholder -> {1:d} third -> {2:s}'\n",
    "this_is_a_template.format(0.13445, 12, 'name')"
   ]
  },
  {
   "cell_type": "markdown",
   "metadata": {},
   "source": [
    "two prefixes: f string and r string. f as in formatted, and r as in raw. The latter will print foward slash as it is"
   ]
  },
  {
   "cell_type": "code",
   "execution_count": 26,
   "metadata": {},
   "outputs": [
    {
     "name": "stdout",
     "output_type": "stream",
     "text": [
      "this is an f string, insert number here  0.13\n",
      "usually end-of-line sign will not be printed out \\n\n"
     ]
    }
   ],
   "source": [
    "insertion = 0.1322\n",
    "f_string = f'this is an f string, insert number here {insertion: .2f}'\n",
    "print(f_string)\n",
    "r_string = r'usually end-of-line sign will not be printed out \\n'\n",
    "print(r_string)"
   ]
  },
  {
   "cell_type": "markdown",
   "metadata": {},
   "source": [
    "## 3. Fun fact about NoneType"
   ]
  },
  {
   "cell_type": "markdown",
   "metadata": {},
   "source": [
    "First, obvioulsy, like list and str, None is a reserved keyword in Python\n",
    "\n",
    "Second, a function is going to return None if there is no return statement.\n",
    "\n",
    "Last, None is the one and only instance of NoneType, and that is why we can use the syntax like something is None, because all the non variable is going to point to the same instance/object."
   ]
  },
  {
   "cell_type": "markdown",
   "metadata": {},
   "source": [
    "## 4. The datetime module"
   ]
  },
  {
   "cell_type": "markdown",
   "metadata": {},
   "source": [
    "It is a standard library, and the structure is they provide date object, time object and datetime object. The third one is actually a combination of first two, so more often than not we can just focus on the last one. Here is how to initialize a datetime object"
   ]
  },
  {
   "cell_type": "code",
   "execution_count": 27,
   "metadata": {},
   "outputs": [],
   "source": [
    "from datetime import date, time, datetime"
   ]
  },
  {
   "cell_type": "code",
   "execution_count": 30,
   "metadata": {},
   "outputs": [
    {
     "name": "stdout",
     "output_type": "stream",
     "text": [
      "only_date 2000-01-01 only time 10:30:00 both 2000-01-01 10:30:00\n"
     ]
    }
   ],
   "source": [
    "date_ = date(2000,1,1)\n",
    "time_ = time(10, 30, 0)\n",
    "date_time = datetime(2000,1,1,10, 30, 0)\n",
    "print('only_date', date_, 'only time',time_, 'both', date_time)"
   ]
  },
  {
   "cell_type": "markdown",
   "metadata": {},
   "source": [
    "You can still get date and time from the datetime object, obviously"
   ]
  },
  {
   "cell_type": "code",
   "execution_count": 32,
   "metadata": {},
   "outputs": [
    {
     "name": "stdout",
     "output_type": "stream",
     "text": [
      "2000-01-01\n",
      "10:30:00\n"
     ]
    }
   ],
   "source": [
    "print(date_time.date())\n",
    "print(date_time.time())"
   ]
  },
  {
   "cell_type": "markdown",
   "metadata": {},
   "source": [
    "There are two functions to go back and forth from datetime to string, strptime and strftime. p as in parse, which means parse string into time, and f as in format which means format a datetime object in good looking string. Here is how to do it"
   ]
  },
  {
   "cell_type": "code",
   "execution_count": 38,
   "metadata": {},
   "outputs": [
    {
     "name": "stdout",
     "output_type": "stream",
     "text": [
      "1990-09-01 20:30:00\n"
     ]
    },
    {
     "data": {
      "text/plain": [
       "'90-09-01 08-6'"
      ]
     },
     "execution_count": 38,
     "metadata": {},
     "output_type": "execute_result"
    }
   ],
   "source": [
    "string_ = '1990-09-01 20:30'\n",
    "dt_object = date_time.strptime(string_, '%Y-%m-%d %H:%M')\n",
    "print(dt_object)\n",
    "\n",
    "dt_object.strftime('%y-%m-%d %I-%w')"
   ]
  },
  {
   "cell_type": "markdown",
   "metadata": {},
   "source": [
    "Here's some explanation. When getting in and out of a string, we need a template. Hence, the %Y stands for 4-digit year (e.g. 1989) and %y for 2-digit year (89). %m and %d are for month and day respectively. As for time, %H is hour in 24 format and %I is 12. Lastly, %M is for minute, and %w is for weekday as integer (0 for sunday and 6 is for Saturday.)\n",
    "\n",
    "One last thing is, like string ,datetime object is immutable, so whenever changed, we have to make a new one. "
   ]
  },
  {
   "cell_type": "code",
   "execution_count": null,
   "metadata": {},
   "outputs": [],
   "source": []
  }
 ],
 "metadata": {
  "kernelspec": {
   "display_name": "Python 3",
   "language": "python",
   "name": "python3"
  },
  "language_info": {
   "codemirror_mode": {
    "name": "ipython",
    "version": 3
   },
   "file_extension": ".py",
   "mimetype": "text/x-python",
   "name": "python",
   "nbconvert_exporter": "python",
   "pygments_lexer": "ipython3",
   "version": "3.6.6"
  }
 },
 "nbformat": 4,
 "nbformat_minor": 2
}
