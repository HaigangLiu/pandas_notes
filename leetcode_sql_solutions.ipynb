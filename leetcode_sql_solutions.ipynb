{
 "cells": [
  {
   "cell_type": "code",
   "execution_count": 2,
   "metadata": {},
   "outputs": [],
   "source": [
    "import pandas as pd \n",
    "from parser import parser\n",
    "import numpy as np"
   ]
  },
  {
   "cell_type": "code",
   "execution_count": 3,
   "metadata": {},
   "outputs": [],
   "source": [
    "q569 = '''\n",
    "+-----+------------+--------+\n",
    "|Id   | Company    | Salary |\n",
    "+-----+------------+--------+\n",
    "|1    | A          | 2341   |\n",
    "|2    | A          | 341    |\n",
    "|3    | A          | 15     |\n",
    "|4    | A          | 15314  |\n",
    "|5    | A          | 451    |\n",
    "|6    | A          | 513    |\n",
    "|7    | B          | 15     |\n",
    "|8    | B          | 13     |\n",
    "|9    | B          | 1154   |\n",
    "|10   | B          | 1345   |\n",
    "|11   | B          | 1221   |\n",
    "|12   | B          | 234    |\n",
    "|13   | C          | 2345   |\n",
    "|14   | C          | 2645   |\n",
    "|15   | C          | 2645   |\n",
    "|16   | C          | 2652   |\n",
    "|17   | C          | 65     |\n",
    "+-----+------------+--------+'''"
   ]
  },
  {
   "cell_type": "code",
   "execution_count": 35,
   "metadata": {},
   "outputs": [],
   "source": [
    "df1 = parser(q569)\n",
    "df1['Id'] = df1['Id'].astype(int)\n",
    "df1['Salary'] = df1['Salary'].astype(float)"
   ]
  },
  {
   "cell_type": "code",
   "execution_count": 48,
   "metadata": {},
   "outputs": [
    {
     "data": {
      "text/html": [
       "<div>\n",
       "<style scoped>\n",
       "    .dataframe tbody tr th:only-of-type {\n",
       "        vertical-align: middle;\n",
       "    }\n",
       "\n",
       "    .dataframe tbody tr th {\n",
       "        vertical-align: top;\n",
       "    }\n",
       "\n",
       "    .dataframe thead th {\n",
       "        text-align: right;\n",
       "    }\n",
       "</style>\n",
       "<table border=\"1\" class=\"dataframe\">\n",
       "  <thead>\n",
       "    <tr style=\"text-align: right;\">\n",
       "      <th></th>\n",
       "      <th></th>\n",
       "      <th>Id</th>\n",
       "      <th>Company</th>\n",
       "      <th>Salary</th>\n",
       "    </tr>\n",
       "    <tr>\n",
       "      <th>Company</th>\n",
       "      <th></th>\n",
       "      <th></th>\n",
       "      <th></th>\n",
       "      <th></th>\n",
       "    </tr>\n",
       "  </thead>\n",
       "  <tbody>\n",
       "    <tr>\n",
       "      <th rowspan=\"2\" valign=\"top\">A</th>\n",
       "      <th>4</th>\n",
       "      <td>5</td>\n",
       "      <td>A</td>\n",
       "      <td>451.0</td>\n",
       "    </tr>\n",
       "    <tr>\n",
       "      <th>5</th>\n",
       "      <td>6</td>\n",
       "      <td>A</td>\n",
       "      <td>513.0</td>\n",
       "    </tr>\n",
       "    <tr>\n",
       "      <th rowspan=\"2\" valign=\"top\">B</th>\n",
       "      <th>11</th>\n",
       "      <td>12</td>\n",
       "      <td>B</td>\n",
       "      <td>234.0</td>\n",
       "    </tr>\n",
       "    <tr>\n",
       "      <th>8</th>\n",
       "      <td>9</td>\n",
       "      <td>B</td>\n",
       "      <td>1154.0</td>\n",
       "    </tr>\n",
       "    <tr>\n",
       "      <th>C</th>\n",
       "      <th>14</th>\n",
       "      <td>15</td>\n",
       "      <td>C</td>\n",
       "      <td>2645.0</td>\n",
       "    </tr>\n",
       "  </tbody>\n",
       "</table>\n",
       "</div>"
      ],
      "text/plain": [
       "            Id Company  Salary\n",
       "Company                       \n",
       "A       4    5       A   451.0\n",
       "        5    6       A   513.0\n",
       "B       11  12       B   234.0\n",
       "        8    9       B  1154.0\n",
       "C       14  15       C  2645.0"
      ]
     },
     "execution_count": 48,
     "metadata": {},
     "output_type": "execute_result"
    }
   ],
   "source": [
    "def median_finder(df):\n",
    "    if len(df)%2 != 0:\n",
    "        median_index = int((len(df)+ 1)/2)\n",
    "        s = df.sort_values(['Salary'])\n",
    "        return s.iloc[median_index:median_index+1, :] \n",
    "    else:\n",
    "        median_index_1 = int(len(df)/2-1)\n",
    "        median_index_2 = int(len(df)/2 )\n",
    "        s = df.sort_values(['Salary'])\n",
    "        return s.iloc[median_index_1: median_index_2+1,:]\n",
    "df1.groupby(['Company']).apply(median_finder)"
   ]
  },
  {
   "cell_type": "code",
   "execution_count": 49,
   "metadata": {},
   "outputs": [],
   "source": [
    "question_570 = '''\n",
    "+------+----------+-----------+----------+\n",
    "|Id    |Name \t  |Department |ManagerId |\n",
    "+------+----------+-----------+----------+\n",
    "|101   |John \t  |A \t      |null      |\n",
    "|102   |Dan \t  |A \t      |101       |\n",
    "|103   |James \t  |A \t      |101       |\n",
    "|104   |Amy \t  |A \t      |101       |\n",
    "|105   |Anne \t  |A \t      |101       |\n",
    "|106   |Ron \t  |B \t      |101       |\n",
    "+------+----------+-----------+----------+\n",
    "'''"
   ]
  },
  {
   "cell_type": "code",
   "execution_count": 60,
   "metadata": {},
   "outputs": [],
   "source": [
    "df = parser(question_570)\n",
    "df['Id'] = df['Id'].astype(int)\n",
    "df['ManagerId'] = pd.to_numeric(df['ManagerId'], errors='igore')"
   ]
  },
  {
   "cell_type": "code",
   "execution_count": 64,
   "metadata": {},
   "outputs": [
    {
     "name": "stdout",
     "output_type": "stream",
     "text": [
      "    Id   Name Department  ManagerId\n",
      "1  102    Dan          A      101.0\n",
      "2  103  James          A      101.0\n",
      "3  104    Amy          A      101.0\n",
      "4  105   Anne          A      101.0\n",
      "5  106    Ron          B      101.0\n",
      "    Id  Name Department  ManagerId\n",
      "0  101  John          A        NaN\n"
     ]
    }
   ],
   "source": [
    "df_employee = df[df.ManagerId.notnull()]\n",
    "df_manager = df[df.ManagerId.isnull()]\n",
    "merged_table = pd.merge(df_employee, df_manager, left_on='ManagerId', right_on='Id', how='right')\n",
    "v = merged_table.Name_y.value_counts()\n",
    "v[v>=5].index.tolist()"
   ]
  },
  {
   "cell_type": "code",
   "execution_count": 69,
   "metadata": {},
   "outputs": [],
   "source": [
    "question_571 = '''\n",
    "+----------+-------------+\n",
    "|  Number  |  Frequency  |\n",
    "+----------+-------------|\n",
    "|  0       |  7          |\n",
    "|  1       |  1          |\n",
    "|  2       |  3          |\n",
    "|  3       |  1          |\n",
    "+----------+-------------+\n",
    "'''"
   ]
  },
  {
   "cell_type": "code",
   "execution_count": 80,
   "metadata": {},
   "outputs": [
    {
     "name": "stdout",
     "output_type": "stream",
     "text": [
      "0.0\n"
     ]
    }
   ],
   "source": [
    "df = parser(question_571)\n",
    "for i in df.columns:\n",
    "    df[i] = pd.to_numeric(df[i])\n",
    "m = np.median(np.repeat(df.values[:, 0], df.values[:, 1]))\n",
    "print(m)"
   ]
  },
  {
   "cell_type": "code",
   "execution_count": 82,
   "metadata": {},
   "outputs": [],
   "source": [
    "question_574_1 = '''\n",
    "+-----+---------+\n",
    "| id  | Name    |\n",
    "+-----+---------+\n",
    "| 1   | A       |\n",
    "| 2   | B       |\n",
    "| 3   | C       |\n",
    "| 4   | D       |\n",
    "| 5   | E       |\n",
    "+-----+---------+  \n",
    "'''"
   ]
  },
  {
   "cell_type": "code",
   "execution_count": 81,
   "metadata": {},
   "outputs": [],
   "source": [
    "question_574_2 = '''\n",
    "+-----+--------------+\n",
    "| id  | CandidateId  |\n",
    "+-----+--------------+\n",
    "| 1   |     2        |\n",
    "| 2   |     4        |\n",
    "| 3   |     3        |\n",
    "| 4   |     2        |\n",
    "| 5   |     5        |\n",
    "+-----+--------------+\n",
    "'''"
   ]
  },
  {
   "cell_type": "code",
   "execution_count": 86,
   "metadata": {
    "scrolled": true
   },
   "outputs": [
    {
     "data": {
      "text/plain": [
       "'B'"
      ]
     },
     "execution_count": 86,
     "metadata": {},
     "output_type": "execute_result"
    }
   ],
   "source": [
    "cand = parser(question_574_1)\n",
    "vote = parser(question_574_2)\n",
    "pd.merge(cand, vote, left_on='id', \n",
    "         right_on='CandidateId', \n",
    "         suffixes=['', '_voter'])['Name']\\\n",
    "        .value_counts().idxmax()"
   ]
  },
  {
   "cell_type": "code",
   "execution_count": 89,
   "metadata": {},
   "outputs": [],
   "source": [
    "question_577_1 = '''\n",
    "+-------+--------+-----------+--------+\n",
    "| empId |  name  | supervisor| salary |\n",
    "+-------+--------+-----------+--------+\n",
    "|   1   | John   |  3        | 1000   |\n",
    "|   2   | Dan    |  3        | 2000   |\n",
    "|   3   | Brad   |  null     | 4000   |\n",
    "|   4   | Thomas |  3        | 4000   |\n",
    "+-------+--------+-----------+--------+\n",
    "'''\n",
    "question_577_2 = '''\n",
    "+-------+-------+\n",
    "| empId | bonus |\n",
    "+-------+-------+\n",
    "| 2     | 500   |\n",
    "| 4     | 2000  |\n",
    "+-------+-------+\n",
    "'''\n",
    "employee = parser(question_577_1)\n",
    "employee['salary'] = employee['salary'].astype(int)\n",
    "bonus = parser(question_577_2)\n",
    "bonus['bonus'] = bonus['bonus'].astype(int)"
   ]
  },
  {
   "cell_type": "code",
   "execution_count": 98,
   "metadata": {
    "scrolled": true
   },
   "outputs": [
    {
     "data": {
      "text/html": [
       "<div>\n",
       "<style scoped>\n",
       "    .dataframe tbody tr th:only-of-type {\n",
       "        vertical-align: middle;\n",
       "    }\n",
       "\n",
       "    .dataframe tbody tr th {\n",
       "        vertical-align: top;\n",
       "    }\n",
       "\n",
       "    .dataframe thead th {\n",
       "        text-align: right;\n",
       "    }\n",
       "</style>\n",
       "<table border=\"1\" class=\"dataframe\">\n",
       "  <thead>\n",
       "    <tr style=\"text-align: right;\">\n",
       "      <th></th>\n",
       "      <th>name</th>\n",
       "      <th>bonus</th>\n",
       "    </tr>\n",
       "  </thead>\n",
       "  <tbody>\n",
       "    <tr>\n",
       "      <th>0</th>\n",
       "      <td>John</td>\n",
       "      <td>NaN</td>\n",
       "    </tr>\n",
       "    <tr>\n",
       "      <th>1</th>\n",
       "      <td>Dan</td>\n",
       "      <td>500.0</td>\n",
       "    </tr>\n",
       "    <tr>\n",
       "      <th>2</th>\n",
       "      <td>Brad</td>\n",
       "      <td>NaN</td>\n",
       "    </tr>\n",
       "  </tbody>\n",
       "</table>\n",
       "</div>"
      ],
      "text/plain": [
       "   name  bonus\n",
       "0  John    NaN\n",
       "1   Dan  500.0\n",
       "2  Brad    NaN"
      ]
     },
     "execution_count": 98,
     "metadata": {},
     "output_type": "execute_result"
    }
   ],
   "source": [
    "result = pd.merge(employee, bonus, on='empId', how='left')\n",
    "result = result.loc[(result['bonus'].isnull()) | (result['bonus'] < 2000), ['name', 'bonus']]\n",
    "result"
   ]
  },
  {
   "cell_type": "code",
   "execution_count": 129,
   "metadata": {},
   "outputs": [],
   "source": [
    "question_578 = '''\n",
    "+------+-----------+--------------+------------+-----------+------------+\n",
    "| uid  | action    | question_id  | answer_id  | q_num     | timestamp  |\n",
    "+------+-----------+--------------+------------+-----------+------------+\n",
    "| 5    | show      | 285          | null       | 1         | 123        |\n",
    "| 5    | answer    | 285          | 124124     | 1         | 124        |\n",
    "| 5    | show      | 369          | null       | 2         | 125        |\n",
    "| 5    | skip      | 369          | null       | 2         | 126        |\n",
    "+------+-----------+--------------+------------+-----------+------------+\n",
    "'''\n",
    "answer = parser(question_578)\n",
    "answer['answer_id'] = pd.to_numeric(answer['answer_id'], errors='coerce') #you have to use coerce!! not ignore"
   ]
  },
  {
   "cell_type": "code",
   "execution_count": 137,
   "metadata": {},
   "outputs": [
    {
     "data": {
      "text/html": [
       "<div>\n",
       "<style scoped>\n",
       "    .dataframe tbody tr th:only-of-type {\n",
       "        vertical-align: middle;\n",
       "    }\n",
       "\n",
       "    .dataframe tbody tr th {\n",
       "        vertical-align: top;\n",
       "    }\n",
       "\n",
       "    .dataframe thead th {\n",
       "        text-align: right;\n",
       "    }\n",
       "</style>\n",
       "<table border=\"1\" class=\"dataframe\">\n",
       "  <thead>\n",
       "    <tr style=\"text-align: right;\">\n",
       "      <th></th>\n",
       "      <th>survey_log</th>\n",
       "    </tr>\n",
       "  </thead>\n",
       "  <tbody>\n",
       "    <tr>\n",
       "      <th>0</th>\n",
       "      <td>285</td>\n",
       "    </tr>\n",
       "  </tbody>\n",
       "</table>\n",
       "</div>"
      ],
      "text/plain": [
       "  survey_log\n",
       "0        285"
      ]
     },
     "execution_count": 137,
     "metadata": {},
     "output_type": "execute_result"
    }
   ],
   "source": [
    "def user_analysis(df):\n",
    "    if sum(df.answer_id.notnull()):\n",
    "        return 1\n",
    "    else:\n",
    "        return 0\n",
    "survey_log = answer.groupby('question_id').apply(user_analysis).idxmax()\n",
    "pd.DataFrame({'survey_log':[survey_log]})"
   ]
  },
  {
   "cell_type": "code",
   "execution_count": 170,
   "metadata": {},
   "outputs": [],
   "source": [
    "question_585 = '''\n",
    "| PID | TIV_2015 | TIV_2016 | LAT | LON |\n",
    "+-----|----------|----------|-----|-----|\n",
    "| 1   | 10       | 5        | 10  | 10  |\n",
    "| 2   | 20       | 20       | 20  | 20  |\n",
    "| 3   | 10       | 30       | 20  | 20  |\n",
    "| 4   | 10       | 40       | 40  | 40  |\n",
    "'''\n",
    "invest = parser(question_585)\n",
    "for i in invest:\n",
    "    invest[i] = pd.to_numeric(invest[i])"
   ]
  },
  {
   "cell_type": "code",
   "execution_count": 177,
   "metadata": {},
   "outputs": [
    {
     "data": {
      "text/plain": [
       "45"
      ]
     },
     "execution_count": 177,
     "metadata": {},
     "output_type": "execute_result"
    }
   ],
   "source": [
    "condition1 = invest.TIV_2015.duplicated(keep=False)\n",
    "condition2 = ~invest[['LAT','LON']].duplicated(keep=False)\n",
    "invest[condition1 & condition2].sum()['TIV_2016']"
   ]
  },
  {
   "cell_type": "code",
   "execution_count": 181,
   "metadata": {},
   "outputs": [],
   "source": [
    "question_603 = '''\n",
    "| seat_id | free |\n",
    "+---------|------|\n",
    "| 1       | 1    |\n",
    "| 2       | 0    |\n",
    "| 3       | 1    |\n",
    "| 4       | 1    |\n",
    "| 5       | 1    |\n",
    "'''\n",
    "seats = parser(question_603)\n",
    "seats['seat_id'] = pd.to_numeric(seats['seat_id'])\n",
    "seats['free'] = pd.to_numeric(seats['free'])"
   ]
  },
  {
   "cell_type": "code",
   "execution_count": 232,
   "metadata": {},
   "outputs": [],
   "source": [
    "s1 = seats.values.repeat(5, axis=0)\n",
    "s2 = np.tile(seats.values, [5,1])\n",
    "combined = pd.DataFrame(np.concatenate([s1, s2], axis=1))\n",
    "combined.columns = ['seat_id_1', 'free_1', 'seat_id_2', 'free_2']"
   ]
  },
  {
   "cell_type": "code",
   "execution_count": 249,
   "metadata": {},
   "outputs": [
    {
     "data": {
      "text/plain": [
       "array([3, 4, 5])"
      ]
     },
     "execution_count": 249,
     "metadata": {},
     "output_type": "execute_result"
    }
   ],
   "source": [
    "m1 = np.abs(combined.seat_id_1 - combined.seat_id_2) == 1\n",
    "m2 = combined.free_1 == 1\n",
    "m3 =  combined.free_2 == 1\n",
    "pd.unique(combined.loc[(m1 &m2 &m3), 'seat_id_1'])"
   ]
  },
  {
   "cell_type": "code",
   "execution_count": 251,
   "metadata": {},
   "outputs": [],
   "source": [
    "question_607_1 = '''\n",
    "+----------+------+--------+-----------------+-----------+\n",
    "| sales_id | name | salary | commission_rate | hire_date |\n",
    "+----------+------+--------+-----------------+-----------+\n",
    "|   1      | John | 100000 |     6           | 4/1/2006  |\n",
    "|   2      | Amy  | 120000 |     5           | 5/1/2010  |\n",
    "|   3      | Mark | 65000  |     12          | 12/25/2008|\n",
    "|   4      | Pam  | 25000  |     25          | 1/1/2005  |\n",
    "|   5      | Alex | 50000  |     10          | 2/3/2007  |\n",
    "+----------+------+--------+-----------------+-----------+\n",
    "'''\n",
    "question_607_2 = '''\n",
    "+---------+--------+------------+\n",
    "| com_id  |  name  |    city    |\n",
    "+---------+--------+------------+\n",
    "|   1     |  RED   |   Boston   |\n",
    "|   2     | ORANGE |   New York |\n",
    "|   3     | YELLOW |   Boston   |\n",
    "|   4     | GREEN  |   Austin   |\n",
    "+---------+--------+------------+\n",
    "'''\n",
    "question_607_3 = '''\n",
    "+----------+----------+---------+----------+--------+\n",
    "| order_id |  date    | com_id  | sales_id | amount |\n",
    "+----------+----------+---------+----------+--------+\n",
    "| 1        | 1/1/2014 |    3    |    4     | 100000 |\n",
    "| 2        | 2/1/2014 |    4    |    5     | 5000   |\n",
    "| 3        | 3/1/2014 |    1    |    1     | 50000  |\n",
    "| 4        | 4/1/2014 |    1    |    4     | 25000  |\n",
    "+----------+----------+---------+----------+--------+\n",
    "'''\n",
    "sales_person = parser(question_607_1)\n",
    "company = parser(question_607_2)\n",
    "orders = parser(question_607_3)"
   ]
  },
  {
   "cell_type": "code",
   "execution_count": 252,
   "metadata": {},
   "outputs": [
    {
     "data": {
      "text/html": [
       "<div>\n",
       "<style scoped>\n",
       "    .dataframe tbody tr th:only-of-type {\n",
       "        vertical-align: middle;\n",
       "    }\n",
       "\n",
       "    .dataframe tbody tr th {\n",
       "        vertical-align: top;\n",
       "    }\n",
       "\n",
       "    .dataframe thead th {\n",
       "        text-align: right;\n",
       "    }\n",
       "</style>\n",
       "<table border=\"1\" class=\"dataframe\">\n",
       "  <thead>\n",
       "    <tr style=\"text-align: right;\">\n",
       "      <th></th>\n",
       "      <th>sales_id</th>\n",
       "      <th>name</th>\n",
       "      <th>salary</th>\n",
       "      <th>commission_rate</th>\n",
       "      <th>hire_date</th>\n",
       "    </tr>\n",
       "  </thead>\n",
       "  <tbody>\n",
       "    <tr>\n",
       "      <th>0</th>\n",
       "      <td>1</td>\n",
       "      <td>John</td>\n",
       "      <td>100000</td>\n",
       "      <td>6</td>\n",
       "      <td>4/1/2006</td>\n",
       "    </tr>\n",
       "    <tr>\n",
       "      <th>1</th>\n",
       "      <td>2</td>\n",
       "      <td>Amy</td>\n",
       "      <td>120000</td>\n",
       "      <td>5</td>\n",
       "      <td>5/1/2010</td>\n",
       "    </tr>\n",
       "    <tr>\n",
       "      <th>2</th>\n",
       "      <td>3</td>\n",
       "      <td>Mark</td>\n",
       "      <td>65000</td>\n",
       "      <td>12</td>\n",
       "      <td>12/25/2008</td>\n",
       "    </tr>\n",
       "    <tr>\n",
       "      <th>3</th>\n",
       "      <td>4</td>\n",
       "      <td>Pam</td>\n",
       "      <td>25000</td>\n",
       "      <td>25</td>\n",
       "      <td>1/1/2005</td>\n",
       "    </tr>\n",
       "    <tr>\n",
       "      <th>4</th>\n",
       "      <td>5</td>\n",
       "      <td>Alex</td>\n",
       "      <td>50000</td>\n",
       "      <td>10</td>\n",
       "      <td>2/3/2007</td>\n",
       "    </tr>\n",
       "  </tbody>\n",
       "</table>\n",
       "</div>"
      ],
      "text/plain": [
       "  sales_id  name  salary commission_rate   hire_date\n",
       "0        1  John  100000               6    4/1/2006\n",
       "1        2   Amy  120000               5    5/1/2010\n",
       "2        3  Mark   65000              12  12/25/2008\n",
       "3        4   Pam   25000              25    1/1/2005\n",
       "4        5  Alex   50000              10    2/3/2007"
      ]
     },
     "execution_count": 252,
     "metadata": {},
     "output_type": "execute_result"
    }
   ],
   "source": [
    "sales_person"
   ]
  },
  {
   "cell_type": "code",
   "execution_count": 269,
   "metadata": {},
   "outputs": [
    {
     "name": "stdout",
     "output_type": "stream",
     "text": [
      "['Alex', 'Mark', 'Amy']\n"
     ]
    }
   ],
   "source": [
    "transctions = pd.merge(pd.merge(sales_person, orders, on='sales_id', how='left'),\n",
    "         company, \n",
    "         on='com_id', \n",
    "         how='left', \n",
    "         suffixes=['','_company'])[['name', 'name_company']]\n",
    "red_sales = transctions.loc[t.name_company == 'RED','name'].tolist()\n",
    "red_sales_non = []\n",
    "for i in set(transctions.name.tolist()):\n",
    "    if i in red_sales:\n",
    "        pass\n",
    "    else:\n",
    "        red_sales_non.append(i)\n",
    "print(red_sales_non)"
   ]
  },
  {
   "cell_type": "code",
   "execution_count": 276,
   "metadata": {},
   "outputs": [],
   "source": [
    "question_610 = '''\n",
    "| x  | y  | z  |\n",
    "+----|----|----|\n",
    "| 13 | 15 | 30 |\n",
    "| 10 | 20 | 15 |\n",
    "'''\n",
    "triangle = parser(question_610)"
   ]
  },
  {
   "cell_type": "code",
   "execution_count": 277,
   "metadata": {},
   "outputs": [
    {
     "data": {
      "text/html": [
       "<div>\n",
       "<style scoped>\n",
       "    .dataframe tbody tr th:only-of-type {\n",
       "        vertical-align: middle;\n",
       "    }\n",
       "\n",
       "    .dataframe tbody tr th {\n",
       "        vertical-align: top;\n",
       "    }\n",
       "\n",
       "    .dataframe thead th {\n",
       "        text-align: right;\n",
       "    }\n",
       "</style>\n",
       "<table border=\"1\" class=\"dataframe\">\n",
       "  <thead>\n",
       "    <tr style=\"text-align: right;\">\n",
       "      <th></th>\n",
       "      <th>x</th>\n",
       "      <th>y</th>\n",
       "      <th>z</th>\n",
       "    </tr>\n",
       "  </thead>\n",
       "  <tbody>\n",
       "    <tr>\n",
       "      <th>0</th>\n",
       "      <td>13</td>\n",
       "      <td>15</td>\n",
       "      <td>30</td>\n",
       "    </tr>\n",
       "    <tr>\n",
       "      <th>1</th>\n",
       "      <td>10</td>\n",
       "      <td>20</td>\n",
       "      <td>15</td>\n",
       "    </tr>\n",
       "  </tbody>\n",
       "</table>\n",
       "</div>"
      ],
      "text/plain": [
       "    x   y   z\n",
       "0  13  15  30\n",
       "1  10  20  15"
      ]
     },
     "execution_count": 277,
     "metadata": {},
     "output_type": "execute_result"
    }
   ],
   "source": [
    "for i in triangle.columns.tolist():\n",
    "    triangle[i] = triangle[i].astype(int)\n",
    "triangle"
   ]
  },
  {
   "cell_type": "code",
   "execution_count": 279,
   "metadata": {},
   "outputs": [],
   "source": [
    "def rule(row):\n",
    "    if row.x**2 + row.y**2 >= row.z**2:\n",
    "        return 'yes'\n",
    "    else:\n",
    "        return 'no'\n",
    "triangle['triangle'] = triangle.apply(rule, axis=1)\n",
    "triangle"
   ]
  },
  {
   "cell_type": "code",
   "execution_count": 288,
   "metadata": {},
   "outputs": [],
   "source": [
    "question_612 = '''\n",
    "| x  | y  |\n",
    "+----|----|\n",
    "| -1 | -1 |\n",
    "| 0  | 0  |\n",
    "| -1 | -2 |\n",
    "'''\n",
    "plane = parser(question_612)\n",
    "plane['x'] = pd.to_numeric(plane['x'])\n",
    "plane['y'] = pd.to_numeric(plane['y'])"
   ]
  },
  {
   "cell_type": "code",
   "execution_count": 295,
   "metadata": {},
   "outputs": [],
   "source": [
    "c = np.concatenate([np.tile(plane.values, [3,1]), np.repeat(plane.values, 3, axis=0)], axis=1)\n",
    "distance_ = pd.DataFrame(c, columns=['x_1', 'y_1', 'x_2','y_2'])\n",
    "\n",
    "distance_results = distance_.apply(lambda df: np.abs(df.x_1 - df.x_2)**2 + np.abs(df.y_1 - df.y_2)**2, axis=1)\n",
    "distance_results = distance_results[distance_results > 0]\n",
    "distance_results.min()"
   ]
  },
  {
   "cell_type": "code",
   "execution_count": 316,
   "metadata": {},
   "outputs": [],
   "source": [
    "question_615_1 = '''\n",
    "| id | employee_id | amount | pay_date   |\n",
    "+----|-------------|--------|------------|\n",
    "| 1  | 1           | 9000   | 2017-03-31 |\n",
    "| 2  | 2           | 6000   | 2017-03-31 |\n",
    "| 3  | 3           | 10000  | 2017-03-31 |\n",
    "| 4  | 1           | 7000   | 2017-02-28 |\n",
    "| 5  | 2           | 6000   | 2017-02-28 |\n",
    "| 6  | 3           | 8000   | 2017-02-28 |\n",
    "'''\n",
    "question_615_2 = '''\n",
    "| employee_id | department_id |\n",
    "+-------------|---------------|\n",
    "| 1           | 1             |\n",
    "| 2           | 2             |\n",
    "| 3           | 2             |\n",
    "'''\n",
    "\n",
    "association = parser(question_615_2)\n",
    "salary = parser(question_615_1)\n",
    "salary['amount'] = pd.to_numeric(salary['amount'])\n",
    "salary['pay_month'] = salary['pay_date'].str[0:7]\n",
    "combined = pd.merge(association, salary)"
   ]
  },
  {
   "cell_type": "code",
   "execution_count": 340,
   "metadata": {},
   "outputs": [
    {
     "data": {
      "text/html": [
       "<div>\n",
       "<style scoped>\n",
       "    .dataframe tbody tr th:only-of-type {\n",
       "        vertical-align: middle;\n",
       "    }\n",
       "\n",
       "    .dataframe tbody tr th {\n",
       "        vertical-align: top;\n",
       "    }\n",
       "\n",
       "    .dataframe thead th {\n",
       "        text-align: right;\n",
       "    }\n",
       "</style>\n",
       "<table border=\"1\" class=\"dataframe\">\n",
       "  <thead>\n",
       "    <tr style=\"text-align: right;\">\n",
       "      <th></th>\n",
       "      <th></th>\n",
       "      <th>amount</th>\n",
       "      <th>decision</th>\n",
       "    </tr>\n",
       "    <tr>\n",
       "      <th>pay_month</th>\n",
       "      <th>department_id</th>\n",
       "      <th></th>\n",
       "      <th></th>\n",
       "    </tr>\n",
       "  </thead>\n",
       "  <tbody>\n",
       "    <tr>\n",
       "      <th rowspan=\"2\" valign=\"top\">2017-02</th>\n",
       "      <th>1</th>\n",
       "      <td>7000</td>\n",
       "      <td>same</td>\n",
       "    </tr>\n",
       "    <tr>\n",
       "      <th>2</th>\n",
       "      <td>7000</td>\n",
       "      <td>same</td>\n",
       "    </tr>\n",
       "    <tr>\n",
       "      <th rowspan=\"2\" valign=\"top\">2017-03</th>\n",
       "      <th>1</th>\n",
       "      <td>9000</td>\n",
       "      <td>greater</td>\n",
       "    </tr>\n",
       "    <tr>\n",
       "      <th>2</th>\n",
       "      <td>8000</td>\n",
       "      <td>smaller</td>\n",
       "    </tr>\n",
       "  </tbody>\n",
       "</table>\n",
       "</div>"
      ],
      "text/plain": [
       "                         amount decision\n",
       "pay_month department_id                 \n",
       "2017-02   1                7000     same\n",
       "          2                7000     same\n",
       "2017-03   1                9000  greater\n",
       "          2                8000  smaller"
      ]
     },
     "execution_count": 340,
     "metadata": {},
     "output_type": "execute_result"
    }
   ],
   "source": [
    "def make_comparison(df):\n",
    "    base_line_salary = df.amount.mean()\n",
    "    dpt_ = df.groupby('department_id').mean()\n",
    "    def func(r):\n",
    "        if r > base_line_salary:\n",
    "            return 'greater'\n",
    "        elif r == base_line_salary:\n",
    "            return 'same'\n",
    "        else:\n",
    "            return 'smaller'\n",
    "    dpt_['decision'] = dpt_.amount.map(func)\n",
    "    return dpt_\n",
    "combined.groupby('pay_month').apply(make_comparison)"
   ]
  },
  {
   "cell_type": "code",
   "execution_count": 338,
   "metadata": {},
   "outputs": [],
   "source": []
  },
  {
   "cell_type": "code",
   "execution_count": null,
   "metadata": {},
   "outputs": [],
   "source": []
  },
  {
   "cell_type": "code",
   "execution_count": null,
   "metadata": {},
   "outputs": [],
   "source": []
  },
  {
   "cell_type": "code",
   "execution_count": null,
   "metadata": {},
   "outputs": [],
   "source": []
  }
 ],
 "metadata": {
  "kernelspec": {
   "display_name": "Python 3",
   "language": "python",
   "name": "python3"
  },
  "language_info": {
   "codemirror_mode": {
    "name": "ipython",
    "version": 3
   },
   "file_extension": ".py",
   "mimetype": "text/x-python",
   "name": "python",
   "nbconvert_exporter": "python",
   "pygments_lexer": "ipython3",
   "version": "3.6.6"
  }
 },
 "nbformat": 4,
 "nbformat_minor": 2
}
