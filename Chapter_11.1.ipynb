{
 "cells": [
  {
   "cell_type": "markdown",
   "metadata": {},
   "source": [
    "# Time series analysis"
   ]
  },
  {
   "cell_type": "markdown",
   "metadata": {},
   "source": [
    "## the dateutil package"
   ]
  },
  {
   "cell_type": "markdown",
   "metadata": {},
   "source": [
    "The mostly common used package is the datetime library, which requires specifying the format of date. Another package, dateutil, can do this automatically, and is also used as the backend for pandas pd.to_numeric function."
   ]
  },
  {
   "cell_type": "code",
   "execution_count": 1,
   "metadata": {},
   "outputs": [],
   "source": [
    "from dateutil.parser import parse"
   ]
  },
  {
   "cell_type": "code",
   "execution_count": 8,
   "metadata": {},
   "outputs": [],
   "source": [
    "auto_detected_date1 = parse('2010-01-01')\n",
    "auto_detected_date2 = parse('20100305')"
   ]
  },
  {
   "cell_type": "code",
   "execution_count": 9,
   "metadata": {},
   "outputs": [
    {
     "name": "stdout",
     "output_type": "stream",
     "text": [
      "2010-01-01 00:00:00\n",
      "2010-03-05 00:00:00\n"
     ]
    }
   ],
   "source": [
    "print(auto_detected_date1)\n",
    "print(auto_detected_date2)"
   ]
  },
  {
   "cell_type": "markdown",
   "metadata": {},
   "source": [
    "The only caveate is, by convention, in US, month comes first and date later. However, sometimes we might want date and month flipped, since it is an international format."
   ]
  },
  {
   "cell_type": "code",
   "execution_count": 12,
   "metadata": {},
   "outputs": [
    {
     "data": {
      "text/plain": [
       "datetime.datetime(2012, 5, 3, 0, 0)"
      ]
     },
     "execution_count": 12,
     "metadata": {},
     "output_type": "execute_result"
    }
   ],
   "source": [
    "auto_detected_date2 = parse('03/05/2012', dayfirst=True)\n",
    "auto_detected_date2"
   ]
  },
  {
   "cell_type": "markdown",
   "metadata": {},
   "source": [
    "## Indexing by timestamp"
   ]
  },
  {
   "cell_type": "markdown",
   "metadata": {},
   "source": [
    "The indexing, if time stamps are used as indices, turns out to be more versatile. For instance, we can only specify a year and retrieve all days from that year. Additionally, we can pass in a string, and pandas is going to convert to time stamp objects under the hood."
   ]
  },
  {
   "cell_type": "code",
   "execution_count": 18,
   "metadata": {},
   "outputs": [
    {
     "name": "stdout",
     "output_type": "stream",
     "text": [
      "365 31\n"
     ]
    }
   ],
   "source": [
    "import pandas as pd \n",
    "import numpy as np \n",
    "two_years_data = pd.Series(np.random.randn(365*2), index=pd.date_range('2013-01-01', '2014-12-31', freq='D'))\n",
    "choose_one_year = two_years_data['2014'].count()\n",
    "choose_one_month = two_years_data['2014-01'].count()\n",
    "print(choose_one_year, choose_one_month)"
   ]
  },
  {
   "cell_type": "markdown",
   "metadata": {},
   "source": [
    "Truncate, is another method to get partial data from a series indexed by time stamp. To be clear, truncate before a date mean the data before that date is going to be discarded."
   ]
  },
  {
   "cell_type": "code",
   "execution_count": 31,
   "metadata": {},
   "outputs": [
    {
     "name": "stdout",
     "output_type": "stream",
     "text": [
      "2014-01-01 00:00:00\n",
      "2014-01-02 00:00:00\n"
     ]
    }
   ],
   "source": [
    "s = two_years_data.truncate(before='2014-01')\n",
    "print(s.index[0])\n",
    "print(s.index[1])"
   ]
  },
  {
   "cell_type": "markdown",
   "metadata": {},
   "source": [
    "We can generate a list of dates as index easily by specify the begining and the end. The default frequency is day, and each element in the range is a time stamp object. Besides day, we can also choose the interval to be week (W-MON) or business day (B) and a lot other options. We can even use customized frequency like '1h30min'."
   ]
  },
  {
   "cell_type": "code",
   "execution_count": 104,
   "metadata": {},
   "outputs": [
    {
     "data": {
      "text/plain": [
       "pandas._libs.tslibs.timestamps.Timestamp"
      ]
     },
     "execution_count": 104,
     "metadata": {},
     "output_type": "execute_result"
    }
   ],
   "source": [
    "a_series_of_dates = pd.date_range('2010-01-01', '2010-01-20')\n",
    "type(a_series_of_dates[0])"
   ]
  },
  {
   "cell_type": "code",
   "execution_count": 105,
   "metadata": {},
   "outputs": [
    {
     "name": "stdout",
     "output_type": "stream",
     "text": [
      "DatetimeIndex(['2010-01-01', '2010-01-04', '2010-01-05', '2010-01-06',\n",
      "               '2010-01-07', '2010-01-08', '2010-01-11', '2010-01-12',\n",
      "               '2010-01-13', '2010-01-14', '2010-01-15', '2010-01-18',\n",
      "               '2010-01-19', '2010-01-20'],\n",
      "              dtype='datetime64[ns]', freq='B')\n"
     ]
    }
   ],
   "source": [
    "business_day = pd.date_range('2010-01-01', '2010-01-20', freq='B')\n",
    "print(business_day)"
   ]
  },
  {
   "cell_type": "markdown",
   "metadata": {},
   "source": [
    "# shift the series\n",
    "\n",
    "This is useful when one needs calculating the day by day percentage change. The only argument one needs to pass is how many time units one needs to push back. And if the number of negative, the series is going to be pushed in another direction."
   ]
  },
  {
   "cell_type": "code",
   "execution_count": 110,
   "metadata": {},
   "outputs": [
    {
     "data": {
      "text/plain": [
       "2013-01-01   -0.448277\n",
       "2013-01-02   -1.246988\n",
       "2013-01-03   -0.095033\n",
       "2013-01-04   -0.456230\n",
       "2013-01-05   -1.113853\n",
       "2013-01-06   -0.513443\n",
       "2013-01-07   -0.203354\n",
       "2013-01-08   -2.141995\n",
       "2013-01-09   -1.059850\n",
       "2013-01-10    0.294845\n",
       "Freq: D, dtype: float64"
      ]
     },
     "execution_count": 110,
     "metadata": {},
     "output_type": "execute_result"
    }
   ],
   "source": [
    "ten_days_data = pd.Series(np.random.randn(10), index=pd.date_range('2013-01-01', '2013-01-10', freq='D'))\n",
    "ten_days_data"
   ]
  },
  {
   "cell_type": "code",
   "execution_count": 115,
   "metadata": {},
   "outputs": [
    {
     "data": {
      "text/plain": [
       "2013-01-01         NaN\n",
       "2013-01-02         NaN\n",
       "2013-01-03   -0.448277\n",
       "2013-01-04   -1.246988\n",
       "2013-01-05   -0.095033\n",
       "2013-01-06   -0.456230\n",
       "2013-01-07   -1.113853\n",
       "2013-01-08   -0.513443\n",
       "2013-01-09   -0.203354\n",
       "2013-01-10   -2.141995\n",
       "Freq: D, dtype: float64"
      ]
     },
     "execution_count": 115,
     "metadata": {},
     "output_type": "execute_result"
    }
   ],
   "source": [
    "ten_days_data.shift(2)"
   ]
  },
  {
   "cell_type": "code",
   "execution_count": 116,
   "metadata": {},
   "outputs": [
    {
     "data": {
      "text/plain": [
       "2013-01-03   -0.448277\n",
       "2013-01-04   -1.246988\n",
       "2013-01-05   -0.095033\n",
       "2013-01-06   -0.456230\n",
       "2013-01-07   -1.113853\n",
       "2013-01-08   -0.513443\n",
       "2013-01-09   -0.203354\n",
       "2013-01-10   -2.141995\n",
       "2013-01-11   -1.059850\n",
       "2013-01-12    0.294845\n",
       "Freq: D, dtype: float64"
      ]
     },
     "execution_count": 116,
     "metadata": {},
     "output_type": "execute_result"
    }
   ],
   "source": [
    "ten_days_data.shift(2, freq='D')"
   ]
  },
  {
   "cell_type": "markdown",
   "metadata": {},
   "source": [
    "If no frequency is specified, then a naive shift is going to be done, which means the index is not going to be modified. In other words, the first 2 units is going to be NA, and the last to observations are going to be dropped. However, if we specify the correct frequency, then the timestamps as the index will also be advanced. In this case, the last two observations are going be used for 11th and 12th of Jan."
   ]
  },
  {
   "cell_type": "markdown",
   "metadata": {},
   "source": [
    "To summaries, there's a few ways to construct the datetime index.\n",
    "1. The first way is to construct with pd.date_range(), as we have discussed before. \n",
    "2. pd.DatetimeIndex, can also accept a list of strings and parse them automatically to get timestamp and construct datetime index thereafter.\n",
    "3. Similar to pd.DatetimeIndex, pd.to_datetime also serves the same functionality, the result of which can be used as index."
   ]
  },
  {
   "cell_type": "code",
   "execution_count": 118,
   "metadata": {},
   "outputs": [],
   "source": [
    "list_of_strings = ['2013-01-01', '2013-01-02', '2013-01-03', '2013-01-04',\n",
    " '2013-01-05', '2013-01-06', '2013-01-07', '2013-01-08','2013-01-09', '2013-01-10']"
   ]
  },
  {
   "cell_type": "code",
   "execution_count": 128,
   "metadata": {},
   "outputs": [],
   "source": [
    "from_strings_1 = pd.DatetimeIndex(list_of_strings, freq='D')\n",
    "from_strings_2 = pd.to_datetime(list_of_strings) # freq='D' not allowed here but can be set later\n",
    "from_strings_2.freq='D'"
   ]
  },
  {
   "cell_type": "code",
   "execution_count": 130,
   "metadata": {},
   "outputs": [
    {
     "data": {
      "text/plain": [
       "True"
      ]
     },
     "execution_count": 130,
     "metadata": {},
     "output_type": "execute_result"
    }
   ],
   "source": [
    "(from_strings_1 == from_strings_2).all()"
   ]
  },
  {
   "cell_type": "markdown",
   "metadata": {},
   "source": [
    "Obviously, we can also construct datetime index object from a datetime object. However, this is not terribly useful because pandas can convert from strings anyway."
   ]
  },
  {
   "cell_type": "code",
   "execution_count": 132,
   "metadata": {},
   "outputs": [
    {
     "data": {
      "text/plain": [
       "DatetimeIndex(['2018-12-24 21:40:48.022835'], dtype='datetime64[ns]', freq=None)"
      ]
     },
     "execution_count": 132,
     "metadata": {},
     "output_type": "execute_result"
    }
   ],
   "source": [
    "from datetime import datetime\n",
    "now = datetime.now()\n",
    "pd.DatetimeIndex([now])"
   ]
  },
  {
   "cell_type": "markdown",
   "metadata": {},
   "source": [
    "A different kind of index is called period index, which unlike timestamp, defines a segment of time span. One way to make this clear is the period object has a start_time attribute (a time stamp) and an end_time attribute (another time stamp).\n",
    "\n",
    "Another things to notice: there is both period and periodindex object in pandas, but for time stamp there is only datetimeindex object, but no datetime object. My speculation is there is a datetime class in built-in Python library already and why pandas developers skipped it.  \n",
    "\n",
    "Note that freq is optional for Period object but mandatory for PeriodIndex."
   ]
  },
  {
   "cell_type": "code",
   "execution_count": 158,
   "metadata": {},
   "outputs": [
    {
     "name": "stdout",
     "output_type": "stream",
     "text": [
      "2007 2007-01-01 00:00:00 2007-12-31 23:59:59.999999999\n",
      "2008\n"
     ]
    }
   ],
   "source": [
    "p = pd.Period(2007, freq='A-DEC')\n",
    "print(p, p.start_time, p.end_time)\n",
    "print(p + 1) #add and subtract, obviously"
   ]
  },
  {
   "cell_type": "markdown",
   "metadata": {},
   "source": [
    "\n"
   ]
  },
  {
   "cell_type": "code",
   "execution_count": 157,
   "metadata": {},
   "outputs": [
    {
     "data": {
      "text/plain": [
       "Period('2007-12-31', 'D')"
      ]
     },
     "execution_count": 157,
     "metadata": {},
     "output_type": "execute_result"
    }
   ],
   "source": []
  },
  {
   "cell_type": "code",
   "execution_count": 141,
   "metadata": {},
   "outputs": [
    {
     "data": {
      "text/plain": [
       "Period('2007', 'A-DEC')"
      ]
     },
     "execution_count": 141,
     "metadata": {},
     "output_type": "execute_result"
    }
   ],
   "source": [
    "p"
   ]
  },
  {
   "cell_type": "markdown",
   "metadata": {},
   "source": [
    "p"
   ]
  },
  {
   "cell_type": "code",
   "execution_count": null,
   "metadata": {},
   "outputs": [],
   "source": []
  },
  {
   "cell_type": "code",
   "execution_count": null,
   "metadata": {},
   "outputs": [],
   "source": []
  },
  {
   "cell_type": "code",
   "execution_count": null,
   "metadata": {},
   "outputs": [],
   "source": []
  },
  {
   "cell_type": "code",
   "execution_count": null,
   "metadata": {},
   "outputs": [],
   "source": []
  },
  {
   "cell_type": "code",
   "execution_count": null,
   "metadata": {},
   "outputs": [],
   "source": []
  },
  {
   "cell_type": "code",
   "execution_count": null,
   "metadata": {},
   "outputs": [],
   "source": []
  },
  {
   "cell_type": "code",
   "execution_count": null,
   "metadata": {},
   "outputs": [],
   "source": []
  }
 ],
 "metadata": {
  "kernelspec": {
   "display_name": "Python 3",
   "language": "python",
   "name": "python3"
  },
  "language_info": {
   "codemirror_mode": {
    "name": "ipython",
    "version": 3
   },
   "file_extension": ".py",
   "mimetype": "text/x-python",
   "name": "python",
   "nbconvert_exporter": "python",
   "pygments_lexer": "ipython3",
   "version": "3.6.6"
  }
 },
 "nbformat": 4,
 "nbformat_minor": 2
}
