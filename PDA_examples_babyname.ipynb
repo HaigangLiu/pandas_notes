{
 "cells": [
  {
   "cell_type": "markdown",
   "metadata": {},
   "source": [
    "# baby names\n",
    "\n",
    "A list of baby names over the year is given. Here's a few challenges. \n",
    "1. Merge all names in one piece. \n",
    "2. Groupby sex, and plot the total over year.\n",
    "3. Add a proportion column to the dataset\n",
    "4. Find the 1000 most popular names for each year and sex\n",
    "5. The trend of name John and Mary over years(the count change)\n",
    "6. Find name diversity"
   ]
  },
  {
   "cell_type": "markdown",
   "metadata": {},
   "source": [
    "## Combine the tables "
   ]
  },
  {
   "cell_type": "code",
   "execution_count": 1,
   "metadata": {},
   "outputs": [],
   "source": [
    "%matplotlib inline\n",
    "import pandas as pd \n",
    "import os \n",
    "import re\n",
    "pieces = []\n",
    "\n",
    "for file_ in os.listdir('./names'):\n",
    "    if file_.endswith('txt'):\n",
    "        file = pd.read_csv(os.path.join('./names', file_), \n",
    "                           header=None,\n",
    "                           names=['name', 'sex', 'births'])\n",
    "        [year_] = re.findall('\\d{4}', file_ )\n",
    "        file['year'] = int(year_)\n",
    "    pieces.append(file)\n",
    "    \n",
    "names_table = pd.concat(pieces, axis=0, ignore_index=True)"
   ]
  },
  {
   "cell_type": "code",
   "execution_count": 2,
   "metadata": {
    "scrolled": true
   },
   "outputs": [
    {
     "data": {
      "text/plain": [
       "139"
      ]
     },
     "execution_count": 2,
     "metadata": {},
     "output_type": "execute_result"
    }
   ],
   "source": [
    "len(os.listdir('./names'))"
   ]
  },
  {
   "cell_type": "markdown",
   "metadata": {},
   "source": [
    "## plot the time series by gender"
   ]
  },
  {
   "cell_type": "code",
   "execution_count": 3,
   "metadata": {},
   "outputs": [
    {
     "data": {
      "text/plain": [
       "<matplotlib.axes._subplots.AxesSubplot at 0x10b4c5668>"
      ]
     },
     "execution_count": 3,
     "metadata": {},
     "output_type": "execute_result"
    },
    {
     "data": {
      "image/png": "[encoded data removed]",
      "text/plain": [
       "<Figure size 432x288 with 1 Axes>"
      ]
     },
     "metadata": {
      "needs_background": "light"
     },
     "output_type": "display_data"
    }
   ],
   "source": [
    "by_gender = names_table.groupby(['year', 'sex'])['births'].sum().unstack()\n",
    "by_gender.plot.line(title='Total name counts across gender over years')"
   ]
  },
  {
   "cell_type": "code",
   "execution_count": 4,
   "metadata": {},
   "outputs": [
    {
     "data": {
      "text/html": [
       "<div>\n",
       "<style scoped>\n",
       "    .dataframe tbody tr th:only-of-type {\n",
       "        vertical-align: middle;\n",
       "    }\n",
       "\n",
       "    .dataframe tbody tr th {\n",
       "        vertical-align: top;\n",
       "    }\n",
       "\n",
       "    .dataframe thead th {\n",
       "        text-align: right;\n",
       "    }\n",
       "</style>\n",
       "<table border=\"1\" class=\"dataframe\">\n",
       "  <thead>\n",
       "    <tr style=\"text-align: right;\">\n",
       "      <th>sex</th>\n",
       "      <th>F</th>\n",
       "      <th>M</th>\n",
       "    </tr>\n",
       "    <tr>\n",
       "      <th>year</th>\n",
       "      <th></th>\n",
       "      <th></th>\n",
       "    </tr>\n",
       "  </thead>\n",
       "  <tbody>\n",
       "    <tr>\n",
       "      <th>1880</th>\n",
       "      <td>96.595541</td>\n",
       "      <td>104.433837</td>\n",
       "    </tr>\n",
       "    <tr>\n",
       "      <th>1881</th>\n",
       "      <td>98.030917</td>\n",
       "      <td>101.046138</td>\n",
       "    </tr>\n",
       "    <tr>\n",
       "      <th>1882</th>\n",
       "      <td>104.909533</td>\n",
       "      <td>103.444950</td>\n",
       "    </tr>\n",
       "    <tr>\n",
       "      <th>1883</th>\n",
       "      <td>106.564516</td>\n",
       "      <td>101.579612</td>\n",
       "    </tr>\n",
       "    <tr>\n",
       "      <th>1884</th>\n",
       "      <td>110.085324</td>\n",
       "      <td>101.726222</td>\n",
       "    </tr>\n",
       "  </tbody>\n",
       "</table>\n",
       "</div>"
      ],
      "text/plain": [
       "sex            F           M\n",
       "year                        \n",
       "1880   96.595541  104.433837\n",
       "1881   98.030917  101.046138\n",
       "1882  104.909533  103.444950\n",
       "1883  106.564516  101.579612\n",
       "1884  110.085324  101.726222"
      ]
     },
     "execution_count": 4,
     "metadata": {},
     "output_type": "execute_result"
    }
   ],
   "source": [
    "#alternatively, one can use pivot_table\n",
    "pivot_table = names_table.pivot_table('births', columns='sex', index='year')\n",
    "pivot_table.head()"
   ]
  },
  {
   "cell_type": "markdown",
   "metadata": {},
   "source": [
    "## Add proportion"
   ]
  },
  {
   "cell_type": "markdown",
   "metadata": {},
   "source": [
    "I am actually surprised to see that the result does not use year and sex as part of the index. My theory is we are performing in place operation and did not mess with index at all If the customized funtion is going to generate a new df (like .describe would do), then the new multi-index is supposed to show up."
   ]
  },
  {
   "cell_type": "code",
   "execution_count": 5,
   "metadata": {},
   "outputs": [
    {
     "data": {
      "text/html": [
       "<div>\n",
       "<style scoped>\n",
       "    .dataframe tbody tr th:only-of-type {\n",
       "        vertical-align: middle;\n",
       "    }\n",
       "\n",
       "    .dataframe tbody tr th {\n",
       "        vertical-align: top;\n",
       "    }\n",
       "\n",
       "    .dataframe thead th {\n",
       "        text-align: right;\n",
       "    }\n",
       "</style>\n",
       "<table border=\"1\" class=\"dataframe\">\n",
       "  <thead>\n",
       "    <tr style=\"text-align: right;\">\n",
       "      <th></th>\n",
       "      <th>name</th>\n",
       "      <th>sex</th>\n",
       "      <th>births</th>\n",
       "      <th>year</th>\n",
       "      <th>proportion</th>\n",
       "    </tr>\n",
       "  </thead>\n",
       "  <tbody>\n",
       "    <tr>\n",
       "      <th>0</th>\n",
       "      <td>Emily</td>\n",
       "      <td>F</td>\n",
       "      <td>25953</td>\n",
       "      <td>2000</td>\n",
       "      <td>0.014298</td>\n",
       "    </tr>\n",
       "    <tr>\n",
       "      <th>1</th>\n",
       "      <td>Hannah</td>\n",
       "      <td>F</td>\n",
       "      <td>23080</td>\n",
       "      <td>2000</td>\n",
       "      <td>0.012715</td>\n",
       "    </tr>\n",
       "    <tr>\n",
       "      <th>2</th>\n",
       "      <td>Madison</td>\n",
       "      <td>F</td>\n",
       "      <td>19967</td>\n",
       "      <td>2000</td>\n",
       "      <td>0.011000</td>\n",
       "    </tr>\n",
       "    <tr>\n",
       "      <th>3</th>\n",
       "      <td>Ashley</td>\n",
       "      <td>F</td>\n",
       "      <td>17997</td>\n",
       "      <td>2000</td>\n",
       "      <td>0.009915</td>\n",
       "    </tr>\n",
       "    <tr>\n",
       "      <th>4</th>\n",
       "      <td>Sarah</td>\n",
       "      <td>F</td>\n",
       "      <td>17697</td>\n",
       "      <td>2000</td>\n",
       "      <td>0.009750</td>\n",
       "    </tr>\n",
       "  </tbody>\n",
       "</table>\n",
       "</div>"
      ],
      "text/plain": [
       "      name sex  births  year  proportion\n",
       "0    Emily   F   25953  2000    0.014298\n",
       "1   Hannah   F   23080  2000    0.012715\n",
       "2  Madison   F   19967  2000    0.011000\n",
       "3   Ashley   F   17997  2000    0.009915\n",
       "4    Sarah   F   17697  2000    0.009750"
      ]
     },
     "execution_count": 5,
     "metadata": {},
     "output_type": "execute_result"
    }
   ],
   "source": [
    "def add_proportion(df, var_):\n",
    "    df['proportion'] = df[var_]/df[var_].sum()\n",
    "    return df \n",
    "\n",
    "name_table_with_prop = names_table.groupby(['year', 'sex']).apply(add_proportion, var_='births')\n",
    "name_table_with_prop.head()"
   ]
  },
  {
   "cell_type": "markdown",
   "metadata": {},
   "source": [
    "## find the top 1000 names for each year and each gender"
   ]
  },
  {
   "cell_type": "code",
   "execution_count": 6,
   "metadata": {},
   "outputs": [],
   "source": [
    "def sort_top_1000(df, col):\n",
    "    df = df.sort_values(col, ascending=False)[0:1000]\n",
    "    return df\n",
    "selected_births = name_table_with_prop.groupby(['year', 'sex']).\\\n",
    "                  apply(sort_top_1000, col='births')\n",
    "top_1000_names = selected_births.reset_index(drop=True)"
   ]
  },
  {
   "cell_type": "markdown",
   "metadata": {},
   "source": [
    "## find trends for a certain name over time\n"
   ]
  },
  {
   "cell_type": "code",
   "execution_count": 7,
   "metadata": {},
   "outputs": [
    {
     "data": {
      "text/plain": [
       "array([<matplotlib.axes._subplots.AxesSubplot object at 0x120842b70>,\n",
       "       <matplotlib.axes._subplots.AxesSubplot object at 0x13a0e03c8>,\n",
       "       <matplotlib.axes._subplots.AxesSubplot object at 0x13a11b828>,\n",
       "       <matplotlib.axes._subplots.AxesSubplot object at 0x122f01c88>],\n",
       "      dtype=object)"
      ]
     },
     "execution_count": 7,
     "metadata": {},
     "output_type": "execute_result"
    },
    {
     "data": {
      "image/png": "[encoded data removed]",
      "text/plain": [
       "<Figure size 432x288 with 4 Axes>"
      ]
     },
     "metadata": {
      "needs_background": "light"
     },
     "output_type": "display_data"
    }
   ],
   "source": [
    "year_and_name = top_1000_names.pivot_table('births', columns='name', index='year', aggfunc=sum)\n",
    "popular_names = ['John', 'Harry', 'Mary', 'Marilyn']\n",
    "year_and_name[popular_names].plot(subplots=True, grid=False, title='trend of popular names')"
   ]
  },
  {
   "cell_type": "markdown",
   "metadata": {},
   "source": [
    "## analyze the diversity\n",
    "\n",
    "find how many unique names do we have until we cover 50% of all individuals."
   ]
  },
  {
   "cell_type": "code",
   "execution_count": 8,
   "metadata": {},
   "outputs": [],
   "source": [
    "def find_cumsum_50(df, variable):\n",
    "    cumsum_list = df.sort_values(ascending=False, by=variable)[variable].cumsum()\n",
    "    [mid_point] = cumsum_list.searchsorted(0.50)\n",
    "    return mid_point + 1"
   ]
  },
  {
   "cell_type": "code",
   "execution_count": 9,
   "metadata": {},
   "outputs": [
    {
     "data": {
      "text/plain": [
       "<matplotlib.axes._subplots.AxesSubplot at 0x1341c0470>"
      ]
     },
     "execution_count": 9,
     "metadata": {},
     "output_type": "execute_result"
    },
    {
     "data": {
      "image/png": "[encoded data removed]",
      "text/plain": [
       "<Figure size 432x288 with 1 Axes>"
      ]
     },
     "metadata": {
      "needs_background": "light"
     },
     "output_type": "display_data"
    }
   ],
   "source": [
    "cumsum_50 = name_table_with_prop.groupby(['year', 'sex']).\\\n",
    "            apply(find_cumsum_50, variable='proportion').\\\n",
    "            unstack()\n",
    "cumsum_50.plot.line(subplots=False)"
   ]
  },
  {
   "cell_type": "markdown",
   "metadata": {},
   "source": [
    "Another way to look at this is simply find how much the top 1000 names account for in the general population."
   ]
  },
  {
   "cell_type": "code",
   "execution_count": 10,
   "metadata": {},
   "outputs": [
    {
     "data": {
      "text/plain": [
       "Text(0.5, 1.0, 'sum of top 1000 names proportions')"
      ]
     },
     "execution_count": 10,
     "metadata": {},
     "output_type": "execute_result"
    },
    {
     "data": {
      "image/png": "[encoded data removed]",
      "text/plain": [
       "<Figure size 432x288 with 1 Axes>"
      ]
     },
     "metadata": {
      "needs_background": "light"
     },
     "output_type": "display_data"
    }
   ],
   "source": [
    "import matplotlib.pyplot as plt\n",
    "fig, subplot = plt.subplots(1)\n",
    "trend_line = top_1000_names.groupby(['sex', 'year']).sum()['proportion'].unstack(0)\n",
    "trend_line.plot.line(subplots=False, ax=subplot)\n",
    "subplot.set_ylim([0, 1.2])\n",
    "subplot.set_title('sum of top 1000 names proportions')"
   ]
  },
  {
   "cell_type": "code",
   "execution_count": 11,
   "metadata": {},
   "outputs": [],
   "source": [
    "names_table['last_letter'] = names_table.name.map(lambda x: x[-1])"
   ]
  },
  {
   "cell_type": "code",
   "execution_count": 12,
   "metadata": {},
   "outputs": [
    {
     "data": {
      "text/html": [
       "<div>\n",
       "<style scoped>\n",
       "    .dataframe tbody tr th:only-of-type {\n",
       "        vertical-align: middle;\n",
       "    }\n",
       "\n",
       "    .dataframe tbody tr th {\n",
       "        vertical-align: top;\n",
       "    }\n",
       "\n",
       "    .dataframe thead th {\n",
       "        text-align: right;\n",
       "    }\n",
       "</style>\n",
       "<table border=\"1\" class=\"dataframe\">\n",
       "  <thead>\n",
       "    <tr style=\"text-align: right;\">\n",
       "      <th></th>\n",
       "      <th>name</th>\n",
       "      <th>sex</th>\n",
       "      <th>births</th>\n",
       "      <th>year</th>\n",
       "      <th>last_letter</th>\n",
       "    </tr>\n",
       "  </thead>\n",
       "  <tbody>\n",
       "    <tr>\n",
       "      <th>0</th>\n",
       "      <td>Emily</td>\n",
       "      <td>F</td>\n",
       "      <td>25953</td>\n",
       "      <td>2000</td>\n",
       "      <td>y</td>\n",
       "    </tr>\n",
       "    <tr>\n",
       "      <th>1</th>\n",
       "      <td>Hannah</td>\n",
       "      <td>F</td>\n",
       "      <td>23080</td>\n",
       "      <td>2000</td>\n",
       "      <td>h</td>\n",
       "    </tr>\n",
       "    <tr>\n",
       "      <th>2</th>\n",
       "      <td>Madison</td>\n",
       "      <td>F</td>\n",
       "      <td>19967</td>\n",
       "      <td>2000</td>\n",
       "      <td>n</td>\n",
       "    </tr>\n",
       "    <tr>\n",
       "      <th>3</th>\n",
       "      <td>Ashley</td>\n",
       "      <td>F</td>\n",
       "      <td>17997</td>\n",
       "      <td>2000</td>\n",
       "      <td>y</td>\n",
       "    </tr>\n",
       "    <tr>\n",
       "      <th>4</th>\n",
       "      <td>Sarah</td>\n",
       "      <td>F</td>\n",
       "      <td>17697</td>\n",
       "      <td>2000</td>\n",
       "      <td>h</td>\n",
       "    </tr>\n",
       "  </tbody>\n",
       "</table>\n",
       "</div>"
      ],
      "text/plain": [
       "      name sex  births  year last_letter\n",
       "0    Emily   F   25953  2000           y\n",
       "1   Hannah   F   23080  2000           h\n",
       "2  Madison   F   19967  2000           n\n",
       "3   Ashley   F   17997  2000           y\n",
       "4    Sarah   F   17697  2000           h"
      ]
     },
     "execution_count": 12,
     "metadata": {},
     "output_type": "execute_result"
    }
   ],
   "source": [
    "names_table.head()"
   ]
  },
  {
   "cell_type": "code",
   "execution_count": 13,
   "metadata": {},
   "outputs": [
    {
     "data": {
      "text/html": [
       "<div>\n",
       "<style scoped>\n",
       "    .dataframe tbody tr th:only-of-type {\n",
       "        vertical-align: middle;\n",
       "    }\n",
       "\n",
       "    .dataframe tbody tr th {\n",
       "        vertical-align: top;\n",
       "    }\n",
       "\n",
       "    .dataframe thead th {\n",
       "        text-align: right;\n",
       "    }\n",
       "</style>\n",
       "<table border=\"1\" class=\"dataframe\">\n",
       "  <thead>\n",
       "    <tr style=\"text-align: right;\">\n",
       "      <th></th>\n",
       "      <th>last_letter</th>\n",
       "      <th>a</th>\n",
       "      <th>b</th>\n",
       "      <th>c</th>\n",
       "      <th>d</th>\n",
       "      <th>e</th>\n",
       "      <th>f</th>\n",
       "      <th>g</th>\n",
       "      <th>h</th>\n",
       "      <th>i</th>\n",
       "      <th>j</th>\n",
       "      <th>...</th>\n",
       "      <th>q</th>\n",
       "      <th>r</th>\n",
       "      <th>s</th>\n",
       "      <th>t</th>\n",
       "      <th>u</th>\n",
       "      <th>v</th>\n",
       "      <th>w</th>\n",
       "      <th>x</th>\n",
       "      <th>y</th>\n",
       "      <th>z</th>\n",
       "    </tr>\n",
       "    <tr>\n",
       "      <th>sex</th>\n",
       "      <th>year</th>\n",
       "      <th></th>\n",
       "      <th></th>\n",
       "      <th></th>\n",
       "      <th></th>\n",
       "      <th></th>\n",
       "      <th></th>\n",
       "      <th></th>\n",
       "      <th></th>\n",
       "      <th></th>\n",
       "      <th></th>\n",
       "      <th></th>\n",
       "      <th></th>\n",
       "      <th></th>\n",
       "      <th></th>\n",
       "      <th></th>\n",
       "      <th></th>\n",
       "      <th></th>\n",
       "      <th></th>\n",
       "      <th></th>\n",
       "      <th></th>\n",
       "      <th></th>\n",
       "    </tr>\n",
       "  </thead>\n",
       "  <tbody>\n",
       "    <tr>\n",
       "      <th rowspan=\"5\" valign=\"top\">F</th>\n",
       "      <th>1880</th>\n",
       "      <td>0.345587</td>\n",
       "      <td>0.0</td>\n",
       "      <td>0.000000</td>\n",
       "      <td>0.006693</td>\n",
       "      <td>0.366841</td>\n",
       "      <td>0.0</td>\n",
       "      <td>0.000077</td>\n",
       "      <td>0.053444</td>\n",
       "      <td>0.000670</td>\n",
       "      <td>0.0</td>\n",
       "      <td>...</td>\n",
       "      <td>0.0</td>\n",
       "      <td>0.005286</td>\n",
       "      <td>0.015287</td>\n",
       "      <td>0.023650</td>\n",
       "      <td>0.004176</td>\n",
       "      <td>0.0</td>\n",
       "      <td>0.000000</td>\n",
       "      <td>0.000000</td>\n",
       "      <td>0.115031</td>\n",
       "      <td>0.001165</td>\n",
       "    </tr>\n",
       "    <tr>\n",
       "      <th>1881</th>\n",
       "      <td>0.343447</td>\n",
       "      <td>0.0</td>\n",
       "      <td>0.000000</td>\n",
       "      <td>0.006601</td>\n",
       "      <td>0.370624</td>\n",
       "      <td>0.0</td>\n",
       "      <td>0.000054</td>\n",
       "      <td>0.052016</td>\n",
       "      <td>0.000848</td>\n",
       "      <td>0.0</td>\n",
       "      <td>...</td>\n",
       "      <td>0.0</td>\n",
       "      <td>0.004535</td>\n",
       "      <td>0.014312</td>\n",
       "      <td>0.023545</td>\n",
       "      <td>0.004644</td>\n",
       "      <td>0.0</td>\n",
       "      <td>0.000054</td>\n",
       "      <td>0.000000</td>\n",
       "      <td>0.113145</td>\n",
       "      <td>0.001033</td>\n",
       "    </tr>\n",
       "    <tr>\n",
       "      <th>1882</th>\n",
       "      <td>0.338776</td>\n",
       "      <td>0.0</td>\n",
       "      <td>0.000046</td>\n",
       "      <td>0.006806</td>\n",
       "      <td>0.374595</td>\n",
       "      <td>0.0</td>\n",
       "      <td>0.000111</td>\n",
       "      <td>0.051610</td>\n",
       "      <td>0.000751</td>\n",
       "      <td>0.0</td>\n",
       "      <td>...</td>\n",
       "      <td>0.0</td>\n",
       "      <td>0.005471</td>\n",
       "      <td>0.015179</td>\n",
       "      <td>0.022244</td>\n",
       "      <td>0.003802</td>\n",
       "      <td>0.0</td>\n",
       "      <td>0.000000</td>\n",
       "      <td>0.000000</td>\n",
       "      <td>0.112595</td>\n",
       "      <td>0.000983</td>\n",
       "    </tr>\n",
       "    <tr>\n",
       "      <th>1883</th>\n",
       "      <td>0.341251</td>\n",
       "      <td>0.0</td>\n",
       "      <td>0.000045</td>\n",
       "      <td>0.007212</td>\n",
       "      <td>0.373160</td>\n",
       "      <td>0.0</td>\n",
       "      <td>0.000071</td>\n",
       "      <td>0.050757</td>\n",
       "      <td>0.000677</td>\n",
       "      <td>0.0</td>\n",
       "      <td>...</td>\n",
       "      <td>0.0</td>\n",
       "      <td>0.005698</td>\n",
       "      <td>0.015972</td>\n",
       "      <td>0.022739</td>\n",
       "      <td>0.003953</td>\n",
       "      <td>0.0</td>\n",
       "      <td>0.000000</td>\n",
       "      <td>0.000062</td>\n",
       "      <td>0.107399</td>\n",
       "      <td>0.001255</td>\n",
       "    </tr>\n",
       "    <tr>\n",
       "      <th>1884</th>\n",
       "      <td>0.338552</td>\n",
       "      <td>0.0</td>\n",
       "      <td>0.000000</td>\n",
       "      <td>0.007100</td>\n",
       "      <td>0.372725</td>\n",
       "      <td>0.0</td>\n",
       "      <td>0.000186</td>\n",
       "      <td>0.051170</td>\n",
       "      <td>0.000651</td>\n",
       "      <td>0.0</td>\n",
       "      <td>...</td>\n",
       "      <td>0.0</td>\n",
       "      <td>0.005565</td>\n",
       "      <td>0.015796</td>\n",
       "      <td>0.021888</td>\n",
       "      <td>0.003798</td>\n",
       "      <td>0.0</td>\n",
       "      <td>0.000000</td>\n",
       "      <td>0.000000</td>\n",
       "      <td>0.107875</td>\n",
       "      <td>0.001147</td>\n",
       "    </tr>\n",
       "  </tbody>\n",
       "</table>\n",
       "<p>5 rows × 26 columns</p>\n",
       "</div>"
      ],
      "text/plain": [
       "last_letter         a    b         c         d         e    f         g  \\\n",
       "sex year                                                                  \n",
       "F   1880     0.345587  0.0  0.000000  0.006693  0.366841  0.0  0.000077   \n",
       "    1881     0.343447  0.0  0.000000  0.006601  0.370624  0.0  0.000054   \n",
       "    1882     0.338776  0.0  0.000046  0.006806  0.374595  0.0  0.000111   \n",
       "    1883     0.341251  0.0  0.000045  0.007212  0.373160  0.0  0.000071   \n",
       "    1884     0.338552  0.0  0.000000  0.007100  0.372725  0.0  0.000186   \n",
       "\n",
       "last_letter         h         i    j    ...       q         r         s  \\\n",
       "sex year                                ...                               \n",
       "F   1880     0.053444  0.000670  0.0    ...     0.0  0.005286  0.015287   \n",
       "    1881     0.052016  0.000848  0.0    ...     0.0  0.004535  0.014312   \n",
       "    1882     0.051610  0.000751  0.0    ...     0.0  0.005471  0.015179   \n",
       "    1883     0.050757  0.000677  0.0    ...     0.0  0.005698  0.015972   \n",
       "    1884     0.051170  0.000651  0.0    ...     0.0  0.005565  0.015796   \n",
       "\n",
       "last_letter         t         u    v         w         x         y         z  \n",
       "sex year                                                                      \n",
       "F   1880     0.023650  0.004176  0.0  0.000000  0.000000  0.115031  0.001165  \n",
       "    1881     0.023545  0.004644  0.0  0.000054  0.000000  0.113145  0.001033  \n",
       "    1882     0.022244  0.003802  0.0  0.000000  0.000000  0.112595  0.000983  \n",
       "    1883     0.022739  0.003953  0.0  0.000000  0.000062  0.107399  0.001255  \n",
       "    1884     0.021888  0.003798  0.0  0.000000  0.000000  0.107875  0.001147  \n",
       "\n",
       "[5 rows x 26 columns]"
      ]
     },
     "execution_count": 13,
     "metadata": {},
     "output_type": "execute_result"
    }
   ],
   "source": [
    "agg_letter = names_table.groupby(['sex', 'year','last_letter']).agg({'births': sum})['births'].unstack()\n",
    "agg_letter_ratios = agg_letter.div(agg_letter.sum(1), axis=0)\n",
    "agg_letter_ratios.fillna(0,inplace=True)\n",
    "agg_letter_ratios.head()"
   ]
  },
  {
   "cell_type": "code",
   "execution_count": 14,
   "metadata": {},
   "outputs": [
    {
     "ename": "NameError",
     "evalue": "name 'idx' is not defined",
     "output_type": "error",
     "traceback": [
      "\u001b[0;31m---------------------------------------------------------------------------\u001b[0m",
      "\u001b[0;31mNameError\u001b[0m                                 Traceback (most recent call last)",
      "\u001b[0;32m<ipython-input-14-dd3647f5fec3>\u001b[0m in \u001b[0;36m<module>\u001b[0;34m\u001b[0m\n\u001b[0;32m----> 1\u001b[0;31m \u001b[0mdata_to_plot\u001b[0m \u001b[0;34m=\u001b[0m \u001b[0magg_letter_ratios\u001b[0m\u001b[0;34m.\u001b[0m\u001b[0mloc\u001b[0m\u001b[0;34m[\u001b[0m\u001b[0midx\u001b[0m\u001b[0;34m[\u001b[0m\u001b[0;34m:\u001b[0m\u001b[0;34m,\u001b[0m \u001b[0;34m[\u001b[0m\u001b[0;36m1910\u001b[0m\u001b[0;34m,\u001b[0m \u001b[0;36m1961\u001b[0m\u001b[0;34m,\u001b[0m\u001b[0;36m2010\u001b[0m\u001b[0;34m]\u001b[0m\u001b[0;34m]\u001b[0m\u001b[0;34m,\u001b[0m \u001b[0;34m:\u001b[0m\u001b[0;34m]\u001b[0m\u001b[0;34m\u001b[0m\u001b[0m\n\u001b[0m",
      "\u001b[0;31mNameError\u001b[0m: name 'idx' is not defined"
     ]
    }
   ],
   "source": [
    "data_to_plot = agg_letter_ratios.loc[idx[:, [1910, 1961,2010]], :]"
   ]
  },
  {
   "cell_type": "code",
   "execution_count": null,
   "metadata": {
    "scrolled": true
   },
   "outputs": [],
   "source": [
    "fig, plots = plt.subplots(1,2, figsize=[15,3])\n",
    "data_to_plot.loc['M'].T.plot.bar(ax=plots[0])\n",
    "plots[0].set_title('male last letter change')\n",
    "data_to_plot.loc['F'].T.plot.bar(ax=plots[1])\n",
    "plots[1].set_title('female last letter change')"
   ]
  },
  {
   "cell_type": "code",
   "execution_count": null,
   "metadata": {},
   "outputs": [],
   "source": [
    "#how the three letters change over time\n",
    "dny = agg_letter_ratios[['d','n','y']]\n",
    "fig, line_plot = plt.subplots(1,2, figsize=[15,3])\n",
    "female_line_plot = dny.loc['F'].plot.line(ax=line_plot[0])\n",
    "female_line_plot.set_title('line plot for females')\n",
    "male_line_plot = dny.loc['M'].plot.line(ax=line_plot[1])\n",
    "male_line_plot.set_title('line plot for males')"
   ]
  },
  {
   "cell_type": "markdown",
   "metadata": {},
   "source": [
    "## the ratio change of leslie like names"
   ]
  },
  {
   "cell_type": "code",
   "execution_count": null,
   "metadata": {},
   "outputs": [],
   "source": [
    "leslie_names = ['Leslie', 'Lesley', 'Leslee', 'Lesli', 'Lesly']\n",
    "leslie_table = name_table_with_prop[name_table_with_prop.name.isin(leslie_names)]\n",
    "ts_table = leslie_table.groupby(['sex','year']).sum()\n",
    "\n",
    "def find_ratio(df):\n",
    "    df['ratio'] = df.births/df.births.sum()\n",
    "    return df\n",
    "ts_table = ts_table.groupby('year').apply(find_ratio)\n",
    "ts_table.head()"
   ]
  },
  {
   "cell_type": "code",
   "execution_count": null,
   "metadata": {},
   "outputs": [],
   "source": [
    "m = ts_table.loc['M']\n",
    "f = ts_table.loc['F']\n",
    "m = m.sort_index()\n",
    "f = f.sort_index()"
   ]
  },
  {
   "cell_type": "code",
   "execution_count": null,
   "metadata": {
    "scrolled": true
   },
   "outputs": [],
   "source": [
    "plt.plot(m.ratio, 'k--', label='male leslie name')\n",
    "plt.plot(f.ratio, 'b--', label='female leslie name')\n",
    "plt.legend()"
   ]
  },
  {
   "cell_type": "markdown",
   "metadata": {},
   "source": [
    "A note on matrix division:\n",
    "\n",
    "If a numpy matrix is involved, only have to make sure the dimension is right, and the division will be implemented no problem. However, if its about a series and a dataframe, we got to make sure the indices matches, otherwise we are giong to end up with a bunch of NAs."
   ]
  },
  {
   "cell_type": "code",
   "execution_count": null,
   "metadata": {},
   "outputs": [],
   "source": [
    "test = pd.DataFrame(np.random.randn(12).reshape(3,4), columns=list('abcd'), index=list('ABC'))\n",
    "test"
   ]
  },
  {
   "cell_type": "code",
   "execution_count": null,
   "metadata": {},
   "outputs": [],
   "source": [
    "test/pd.Series([1,2,3,4]) #never works as long as the indices does not match"
   ]
  },
  {
   "cell_type": "code",
   "execution_count": null,
   "metadata": {},
   "outputs": [],
   "source": [
    "test.div(pd.Series([1,2,3]), axis=0)"
   ]
  },
  {
   "cell_type": "code",
   "execution_count": null,
   "metadata": {
    "scrolled": false
   },
   "outputs": [],
   "source": [
    "test.div(np.array([1,2,3]), axis=0) #this is fine however..."
   ]
  }
 ],
 "metadata": {
  "kernelspec": {
   "display_name": "Python 3",
   "language": "python",
   "name": "python3"
  },
  "language_info": {
   "codemirror_mode": {
    "name": "ipython",
    "version": 3
   },
   "file_extension": ".py",
   "mimetype": "text/x-python",
   "name": "python",
   "nbconvert_exporter": "python",
   "pygments_lexer": "ipython3",
   "version": "3.6.6"
  }
 },
 "nbformat": 4,
 "nbformat_minor": 2
}
