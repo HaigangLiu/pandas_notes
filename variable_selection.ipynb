{
 "cells": [
  {
   "cell_type": "markdown",
   "metadata": {},
   "source": [
    "# Mallow’s Cp "
   ]
  },
  {
   "cell_type": "markdown",
   "metadata": {},
   "source": [
    "Mallow's cp is a variable selection technique based on the full model and reduced model comparison. The assumption here is the full model is unbiased; predictors must be in “correct form” and important interactions included.\n",
    "\n",
    "As a rule of thumb, if Cp = p, then  the reduced model predicts as well as the full model, and if Cp < p, the reduced model is predicting better than the full model. In practice, we just find the model with the smallest Cp. "
   ]
  },
  {
   "cell_type": "code",
   "execution_count": 147,
   "metadata": {},
   "outputs": [],
   "source": [
    "lung_data = '''\n",
    "49.0 45.0 36.0 45.0 55.0 30.0 28.0 40.0 85.0 11.0 16.0 42.0\n",
    "32.0 30.0 46.0 40.0 26.0 39.0 76.0 43.0 28.0 42.0 78.0 27.0\n",
    "95.0 17.0 24.0 36.0 26.0 63.0 80.0 42.0 74.0 25.0 12.0 52.0\n",
    "37.0 32.0 27.0 35.0 31.0 37.0 37.0 55.0 49.0 29.0 34.0 47.0\n",
    "38.0 26.0 32.0 28.0 41.0 38.0 45.0 30.0 12.0 38.0 99.0 26.0\n",
    "44.0 25.0 38.0 47.0 29.0 27.0 51.0 44.0 40.0 37.0 32.0 54.0\n",
    "31.0 34.0 40.0 36.0\n",
    "'''\n",
    "import numpy as np \n",
    "data = lung_data.splitlines()\n",
    "rec = []\n",
    "for line in data:\n",
    "    if line:\n",
    "        line_ = [float(l) for l in line.split(' ')]\n",
    "        rec.extend(line_)\n",
    "        \n",
    "lung_df = np.array(rec).reshape(19,4)\n",
    "lung_df = pd.DataFrame(lung_df)\n",
    "lung_df.columns = ['y', 'x1', 'x2', 'x3']\n",
    "\n",
    "lung_df['x1sq'] = lung_df['x1']**2\n",
    "lung_df['x2sq'] = lung_df['x2']**2\n",
    "lung_df['x3sq'] = lung_df['x3']**2\n",
    "lung_df['x1x2'] = lung_df['x1']*lung_df['x2']\n",
    "lung_df['x1x3'] = lung_df['x1']*lung_df['x3']\n",
    "lung_df['x2x3'] = lung_df['x2']*lung_df['x3']"
   ]
  },
  {
   "cell_type": "code",
   "execution_count": 150,
   "metadata": {},
   "outputs": [
    {
     "name": "stdout",
     "output_type": "stream",
     "text": [
      "[[-0.05614368976066331, 'y~x1+x2+x1x2'], [0.6717263113549006, 'y~x1+x2+x1sq'], [1.2139792287626836, 'y~x1+x2+x1sq+x2sq'], [1.3025266870131702, 'y~x1+x3+x1sq+x2x3'], [1.4107917687726346, 'y~x1+x1sq+x1x3+x2x3']]\n"
     ]
    }
   ],
   "source": [
    "from itertools import combinations, chain\n",
    "import statsmodels.api as sm\n",
    "import statsmodels.formula.api as smf\n",
    "\n",
    "var_list = lung_df.columns.tolist()\n",
    "var_list.remove('y')\n",
    "\n",
    "full_model = 'y~' + '+'.join(var_list)\n",
    "benckmark_for_cp = smf.ols(full_model, data=lung_df).fit()\n",
    "denom = benckmark_for_cp.mse_resid\n",
    "\n",
    "make_job_list = [ list(combinations(var_list, i+1)) for i in range(len(var_list))]\n",
    "make_job_list = (chain(*make_job_list))\n",
    "make_job_list  = list(make_job_list)\n",
    "\n",
    "model_fit_rec = []\n",
    "for variables in make_job_list:\n",
    "    formula_ = '~'.join(['y', '+'.join(variables)])\n",
    "    cov_count = len(variables) + 1\n",
    "    m = smf.ols(formula_, data=lung_df).fit()\n",
    "    sse = m.mse_resid*(len(lung_df) - cov_count)\n",
    "    metric = sse/denom - len(lung_df) + 2*cov_count\n",
    "\n",
    "    model_fit_rec.append([metric, formula_])\n",
    "model_fit_rec.sort(reverse=False)\n",
    "print(model_fit_rec[0:5]) #best 5 models"
   ]
  },
  {
   "cell_type": "code",
   "execution_count": 48,
   "metadata": {},
   "outputs": [],
   "source": []
  },
  {
   "cell_type": "code",
   "execution_count": null,
   "metadata": {},
   "outputs": [],
   "source": []
  }
 ],
 "metadata": {
  "kernelspec": {
   "display_name": "Python 3",
   "language": "python",
   "name": "python3"
  },
  "language_info": {
   "codemirror_mode": {
    "name": "ipython",
    "version": 3
   },
   "file_extension": ".py",
   "mimetype": "text/x-python",
   "name": "python",
   "nbconvert_exporter": "python",
   "pygments_lexer": "ipython3",
   "version": "3.6.6"
  }
 },
 "nbformat": 4,
 "nbformat_minor": 2
}
